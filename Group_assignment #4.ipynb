{
 "cells": [
  {
   "cell_type": "code",
   "execution_count": 81,
   "id": "871c3114",
   "metadata": {},
   "outputs": [],
   "source": [
    "import numpy as np\n",
    "import pandas as pd\n",
    "import matplotlib.pyplot as plt\n",
    "import random\n",
    "from sklearn.linear_model import LinearRegression\n",
    "from scipy.stats import t\n",
    "import seaborn as sns\n",
    "from scipy import statsp"
   ]
  },
  {
   "cell_type": "markdown",
   "id": "df654888",
   "metadata": {},
   "source": [
    "###  Exercise #1"
   ]
  },
  {
   "cell_type": "markdown",
   "id": "42baad94",
   "metadata": {},
   "source": [
    "Suppose we want to test whether the mean weight of apples in a grocery store is 150 grams. We randomly sample 20 apples from the store and measure their weights, getting the following data:\n"
   ]
  },
  {
   "cell_type": "code",
   "execution_count": 82,
   "id": "eed82ded",
   "metadata": {},
   "outputs": [],
   "source": [
    "Apple_weights = [145, 155, 160, 146, 142, 152, 150, 147, 148, 149, 148, 152, 153, 155, 154, 148, 151, 147, 153, 146]"
   ]
  },
  {
   "cell_type": "markdown",
   "id": "daf4b21b",
   "metadata": {},
   "source": [
    "- What test should we use and why?\n",
    "- State the null and alternative hypotheses.\n",
    "- Choose a significance level (α) (the probability of rejecting the null hypothesis when it is actually true).\n",
    "\n"
   ]
  },
  {
   "cell_type": "markdown",
   "id": "3d6c9984",
   "metadata": {},
   "source": [
    "I would use a 2 tailed t-test because the avergae can either be above or below the 150 grams mean weight.\n",
    "\n",
    " - H0 = 150\n",
    " - Ha <= 150\n",
    " \n",
    " alpha = 0.05"
   ]
  },
  {
   "cell_type": "code",
   "execution_count": 83,
   "id": "15d9cd5a",
   "metadata": {},
   "outputs": [],
   "source": [
    "alpha = 0.05\n",
    "df = 20 - 1 "
   ]
  },
  {
   "cell_type": "markdown",
   "id": "e1e3bfba",
   "metadata": {},
   "source": [
    "- Determine the critical value of t based on the significance level and degrees of freedom. For a two-tailed test with α = 0.05 and df = 19, the critical values are -2.093 and 2.093."
   ]
  },
  {
   "cell_type": "code",
   "execution_count": 84,
   "id": "1de4b8a1",
   "metadata": {},
   "outputs": [],
   "source": [
    "critical_value = 2.093"
   ]
  },
  {
   "cell_type": "markdown",
   "id": "d0a6a959",
   "metadata": {},
   "source": [
    "Compare and interpret the results of the test to the critical value \n"
   ]
  },
  {
   "cell_type": "code",
   "execution_count": null,
   "id": "aa85497a",
   "metadata": {},
   "outputs": [],
   "source": []
  },
  {
   "cell_type": "markdown",
   "id": "952b20cf",
   "metadata": {},
   "source": [
    "### Exercise #2"
   ]
  },
  {
   "cell_type": "markdown",
   "id": "2358bebb",
   "metadata": {},
   "source": [
    "- Suppose we want to test whether the mean height of all men in a population is 180 cm assuming that the population standard deviation = 2. We randomly sample 50 men from the population and measure their heights, getting the following data:"
   ]
  },
  {
   "cell_type": "code",
   "execution_count": 85,
   "id": "8cf49146",
   "metadata": {},
   "outputs": [
    {
     "data": {
      "text/plain": [
       "179.84"
      ]
     },
     "execution_count": 85,
     "metadata": {},
     "output_type": "execute_result"
    }
   ],
   "source": [
    "Men_height = [177, 180, 182, 179, 178, 181, 176, 183, 179, 180, 178, 181, 177, 178, 180, 179, 182, 180, 183, 181, 179, 177, 180, 181, 178, 180, 182, 179, 177, 182, 178, 181, 183, 179, 180, 181, 183, 178, 177, 181, 179, 182, 180, 181, 178, 180, 179, 181, 183, 179]\n",
    "sample_mean = np.mean(Men_height)\n",
    "null_hyp = 180\n",
    "pop_std = 2\n",
    "sample_mean"
   ]
  },
  {
   "cell_type": "code",
   "execution_count": 86,
   "id": "089973e7",
   "metadata": {},
   "outputs": [
    {
     "data": {
      "text/plain": [
       "50"
      ]
     },
     "execution_count": 86,
     "metadata": {},
     "output_type": "execute_result"
    }
   ],
   "source": [
    "len(Men_height)"
   ]
  },
  {
   "cell_type": "markdown",
   "id": "2d27f0b3",
   "metadata": {},
   "source": [
    "- What test should we use and why?\n",
    "  R = 1 tailed z-test\n",
    "  \n",
    "- State the null and alternative hypotheses.\n",
    "   R = H0 = 180, Ha !=180\n"
   ]
  },
  {
   "cell_type": "markdown",
   "id": "6952cf36",
   "metadata": {},
   "source": [
    " ### Choose a significance level (α) (the probability of rejecting the null hypothesis when it is actually true).\n"
   ]
  },
  {
   "cell_type": "code",
   "execution_count": 87,
   "id": "fdefc0f9",
   "metadata": {},
   "outputs": [],
   "source": [
    "alpha = 0.05"
   ]
  },
  {
   "cell_type": "markdown",
   "id": "6175a9b2",
   "metadata": {},
   "source": [
    "### Determine the critical value of t based on the significance level and degrees of freedom"
   ]
  },
  {
   "cell_type": "code",
   "execution_count": 88,
   "id": "91d2dd30",
   "metadata": {},
   "outputs": [
    {
     "data": {
      "text/plain": [
       "49"
      ]
     },
     "execution_count": 88,
     "metadata": {},
     "output_type": "execute_result"
    }
   ],
   "source": [
    "df = len(Men_height)-1\n",
    "df"
   ]
  },
  {
   "cell_type": "code",
   "execution_count": null,
   "id": "afac96f7",
   "metadata": {},
   "outputs": [],
   "source": [
    "P_value = 2 *(1-t.cdf)"
   ]
  },
  {
   "cell_type": "code",
   "execution_count": 89,
   "id": "31ec8086",
   "metadata": {},
   "outputs": [
    {
     "data": {
      "text/plain": [
       "-0.5657"
      ]
     },
     "execution_count": 89,
     "metadata": {},
     "output_type": "execute_result"
    }
   ],
   "source": [
    "z_score = 1.6766\n",
    "z_value = (sample_mean-null_hyp)/(pop_std/np.sqrt(len(Men_height)))\n",
    "z_value = round(z_value,4)\n",
    "z_value"
   ]
  },
  {
   "cell_type": "code",
   "execution_count": 90,
   "id": "9f791c69",
   "metadata": {},
   "outputs": [
    {
     "name": "stdout",
     "output_type": "stream",
     "text": [
      "We accept the null hypothesis\n"
     ]
    }
   ],
   "source": [
    "if z_value > z_score:\n",
    "    print(\"We reject the null hypothesis\")\n",
    "else:\n",
    "    print(\"We accept the null hypothesis\")"
   ]
  },
  {
   "cell_type": "markdown",
   "id": "d00b178b",
   "metadata": {},
   "source": [
    "###   Exercise #3"
   ]
  },
  {
   "cell_type": "markdown",
   "id": "5ed5b073",
   "metadata": {},
   "source": [
    " Suppose we want to test whether the mean weight of a population of cats is different from 4 kg. We randomly sample 50 cats from the population and measure their weights, getting the following data:"
   ]
  },
  {
   "cell_type": "code",
   "execution_count": 100,
   "id": "a572728e",
   "metadata": {},
   "outputs": [
    {
     "data": {
      "text/plain": [
       "(4.17, 0.2274)"
      ]
     },
     "execution_count": 100,
     "metadata": {},
     "output_type": "execute_result"
    }
   ],
   "source": [
    "Cats_weights = [3.9, 4.2, 4.5, 4.1, 4.3, 3.8, 4.6, 4.2, 3.7, 4.3, 3.9, 4.0, 4.1, 4.5, 4.2, 3.8, 3.9, 4.3, 4.1, 4.0, 4.4, 4.2, 4.1, 4.6, 4.4, 4.2, 4.1, 4.3, 4.0, 4.4, 4.3, 3.8, 4.1, 4.5, 4.2, 4.3, 4.0, 4.1, 4.2, 3.9, 4.3, 3.7, 4.1, 4.5, 4.2, 4.0, 4.2, 4.4, 4.1, 4.5]\n",
    "sample_mean = np.mean(Cats_weights).round(4)\n",
    "cats_std = np.std(Cats_weights).round(4)\n",
    "#cats_std = sample_mean\n",
    "n=50\n",
    "sample_mean, cats_std"
   ]
  },
  {
   "cell_type": "markdown",
   "id": "4d3e149c",
   "metadata": {},
   "source": [
    " - Perform one sample two tailed Z-Test to determine whether the mean weight of the sampled cats is significantly different from 4 kg.\n",
    " - State the null and alternative hypotheses.\n"
   ]
  },
  {
   "cell_type": "code",
   "execution_count": 101,
   "id": "2e0a3df1",
   "metadata": {},
   "outputs": [],
   "source": [
    "H0 = 4\n",
    "Ha =! 4"
   ]
  },
  {
   "cell_type": "markdown",
   "id": "f8027ae2",
   "metadata": {},
   "source": [
    " - Choose a significance level (α) (the probability of rejecting the null hypothesis when it is actually true).\n",
    " Calculate the z-score using the formula:\n"
   ]
  },
  {
   "cell_type": "code",
   "execution_count": 102,
   "id": "97d7bee0",
   "metadata": {},
   "outputs": [
    {
     "data": {
      "text/plain": [
       "(5.2862, 1.96)"
      ]
     },
     "execution_count": 102,
     "metadata": {},
     "output_type": "execute_result"
    }
   ],
   "source": [
    "alpha = 0.05/2\n",
    "Z_score = round((sample_mean - H0)/(cats_std/np.sqrt(n)),4)\n",
    "Z_value = stats.norm.ppf(1-alpha).round(3)\n",
    "Z_score, Z_value"
   ]
  },
  {
   "cell_type": "code",
   "execution_count": 103,
   "id": "dd1bc68a",
   "metadata": {},
   "outputs": [
    {
     "name": "stdout",
     "output_type": "stream",
     "text": [
      "We accept the null hypothesis\n"
     ]
    }
   ],
   "source": [
    "if Z_value > Z_score:\n",
    "    print(\"We reject the null hypothesis\")\n",
    "else:\n",
    "    print(\"We accept the null hypothesis\")"
   ]
  },
  {
   "cell_type": "code",
   "execution_count": null,
   "id": "f98e69e5",
   "metadata": {},
   "outputs": [],
   "source": []
  },
  {
   "cell_type": "code",
   "execution_count": null,
   "id": "f1a7644b",
   "metadata": {},
   "outputs": [],
   "source": []
  },
  {
   "cell_type": "code",
   "execution_count": null,
   "id": "e04bbcda",
   "metadata": {},
   "outputs": [],
   "source": []
  }
 ],
 "metadata": {
  "kernelspec": {
   "display_name": "Python 3 (ipykernel)",
   "language": "python",
   "name": "python3"
  },
  "language_info": {
   "codemirror_mode": {
    "name": "ipython",
    "version": 3
   },
   "file_extension": ".py",
   "mimetype": "text/x-python",
   "name": "python",
   "nbconvert_exporter": "python",
   "pygments_lexer": "ipython3",
   "version": "3.10.10"
  }
 },
 "nbformat": 4,
 "nbformat_minor": 5
}
