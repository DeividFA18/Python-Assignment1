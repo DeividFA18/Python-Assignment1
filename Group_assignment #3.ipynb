{
 "cells": [
  {
   "cell_type": "code",
   "execution_count": 1,
   "id": "3a61feef",
   "metadata": {},
   "outputs": [],
   "source": [
    "import numpy as np\n",
    "import seaborn as sns\n",
    "import pandas as pd\n",
    "import matplotlib.pyplot as plt\n",
    "import random\n",
    "from sklearn.linear_model import LinearRegression\n",
    "from scipy.stats import t"
   ]
  },
  {
   "cell_type": "markdown",
   "id": "6742f8d4",
   "metadata": {},
   "source": [
    "- Suppose we have rooms we have a dataset that shows the number of bedrooms and the selling price for 20 houses in a particular neighborhood\n"
   ]
  },
  {
   "cell_type": "code",
   "execution_count": 2,
   "id": "738385dc",
   "metadata": {},
   "outputs": [],
   "source": [
    "Bedrooms = [1,1,1,2,2,2,2,3,3,3,3,3,3,3,4,4,4,5,5,6]\n",
    "Prices = [120,133,139,185,148,160,192,205,244,213,236,280,275,273,312,311,304,415,396,488]"
   ]
  },
  {
   "cell_type": "markdown",
   "id": "3a44cd01",
   "metadata": {},
   "source": [
    "-Using the Bedrooms data points:"
   ]
  },
  {
   "cell_type": "code",
   "execution_count": 3,
   "id": "e01821a0",
   "metadata": {},
   "outputs": [],
   "source": [
    "df = pd.DataFrame({'Bedrooms':Bedrooms,'Prices':Prices}) #different way, same result\n",
    "\n",
    "#df['Bedrooms'] =Bedrooms \n",
    "#df['Prices'] = Prices\n",
    "#df"
   ]
  },
  {
   "cell_type": "markdown",
   "id": "4a7dbce8",
   "metadata": {},
   "source": [
    " - Extract a random sample of size 10"
   ]
  },
  {
   "cell_type": "code",
   "execution_count": 4,
   "id": "0372566c",
   "metadata": {},
   "outputs": [
    {
     "data": {
      "text/plain": [
       "[4, 3, 5, 4, 3, 3, 1, 2, 5, 6]"
      ]
     },
     "execution_count": 4,
     "metadata": {},
     "output_type": "execute_result"
    }
   ],
   "source": [
    "sample = random.sample(Bedrooms,10)\n",
    "sample"
   ]
  },
  {
   "cell_type": "markdown",
   "id": "b64f2f64",
   "metadata": {},
   "source": [
    "- Compute the mean and standard deviation of the sample"
   ]
  },
  {
   "cell_type": "code",
   "execution_count": 99,
   "id": "20457692",
   "metadata": {},
   "outputs": [
    {
     "name": "stdout",
     "output_type": "stream",
     "text": [
      "mean :246.5714\n",
      "std :28.2785\n"
     ]
    }
   ],
   "source": [
    "mean_sample = round(np.mean(sample),4)\n",
    "std_sample = round(np.std(sample),4)\n",
    "print(f\"mean :{mean_sample}\")\n",
    "print(f\"std :{std_sample}\")"
   ]
  },
  {
   "cell_type": "markdown",
   "id": "2c84bb15",
   "metadata": {},
   "source": [
    "- Compute the the mean of the population"
   ]
  },
  {
   "cell_type": "code",
   "execution_count": 6,
   "id": "16a76c1a",
   "metadata": {},
   "outputs": [
    {
     "data": {
      "text/plain": [
       "3.0"
      ]
     },
     "execution_count": 6,
     "metadata": {},
     "output_type": "execute_result"
    }
   ],
   "source": [
    "pop_mean = np.mean(Bedrooms)\n",
    "pop_mean"
   ]
  },
  {
   "cell_type": "markdown",
   "id": "b5f5a06e",
   "metadata": {},
   "source": [
    "- Computer the confidence interval of 95% using the sample\n",
    "- Check if the population mean lies between the upper and lower bounds of the interval"
   ]
  },
  {
   "cell_type": "code",
   "execution_count": 7,
   "id": "1ada59c5",
   "metadata": {},
   "outputs": [
    {
     "name": "stdout",
     "output_type": "stream",
     "text": [
      " UCI:4.480744003669625, LCI:2.7192559963303755, pop_mean:3.0\n"
     ]
    }
   ],
   "source": [
    "UCI = mean_sample + 1.95*(std_sample/np.sqrt(len(sample)))\n",
    "LCI = mean_sample - 1.95*(std_sample/np.sqrt(len(sample)))\n",
    "print(f\" UCI:{UCI}, LCI:{LCI}, pop_mean:{pop_mean}\")"
   ]
  },
  {
   "cell_type": "markdown",
   "id": "dde70227",
   "metadata": {},
   "source": [
    "\n",
    " "
   ]
  },
  {
   "cell_type": "markdown",
   "id": "18e97511",
   "metadata": {},
   "source": [
    "#### Exercise #3\n",
    "- Using both of the Bedrooms and the Prices:"
   ]
  },
  {
   "cell_type": "code",
   "execution_count": 23,
   "id": "b2b0b1ba",
   "metadata": {},
   "outputs": [
    {
     "data": {
      "text/html": [
       "<div>\n",
       "<style scoped>\n",
       "    .dataframe tbody tr th:only-of-type {\n",
       "        vertical-align: middle;\n",
       "    }\n",
       "\n",
       "    .dataframe tbody tr th {\n",
       "        vertical-align: top;\n",
       "    }\n",
       "\n",
       "    .dataframe thead th {\n",
       "        text-align: right;\n",
       "    }\n",
       "</style>\n",
       "<table border=\"1\" class=\"dataframe\">\n",
       "  <thead>\n",
       "    <tr style=\"text-align: right;\">\n",
       "      <th></th>\n",
       "      <th>Bedrooms</th>\n",
       "      <th>Prices</th>\n",
       "    </tr>\n",
       "  </thead>\n",
       "  <tbody>\n",
       "    <tr>\n",
       "      <th>Bedrooms</th>\n",
       "      <td>1.8947</td>\n",
       "      <td>133.8947</td>\n",
       "    </tr>\n",
       "    <tr>\n",
       "      <th>Prices</th>\n",
       "      <td>133.8947</td>\n",
       "      <td>10016.1553</td>\n",
       "    </tr>\n",
       "  </tbody>\n",
       "</table>\n",
       "</div>"
      ],
      "text/plain": [
       "          Bedrooms      Prices\n",
       "Bedrooms    1.8947    133.8947\n",
       "Prices    133.8947  10016.1553"
      ]
     },
     "execution_count": 23,
     "metadata": {},
     "output_type": "execute_result"
    }
   ],
   "source": [
    "covariance = round(df.cov(),4)\n",
    "#sns.heatmap(covariance, annot=True,cmap='Blues')\n",
    "covariance"
   ]
  },
  {
   "cell_type": "code",
   "execution_count": 24,
   "id": "0d8b929f",
   "metadata": {},
   "outputs": [
    {
     "data": {
      "text/html": [
       "<div>\n",
       "<style scoped>\n",
       "    .dataframe tbody tr th:only-of-type {\n",
       "        vertical-align: middle;\n",
       "    }\n",
       "\n",
       "    .dataframe tbody tr th {\n",
       "        vertical-align: top;\n",
       "    }\n",
       "\n",
       "    .dataframe thead th {\n",
       "        text-align: right;\n",
       "    }\n",
       "</style>\n",
       "<table border=\"1\" class=\"dataframe\">\n",
       "  <thead>\n",
       "    <tr style=\"text-align: right;\">\n",
       "      <th></th>\n",
       "      <th>Bedrooms</th>\n",
       "      <th>Prices</th>\n",
       "    </tr>\n",
       "  </thead>\n",
       "  <tbody>\n",
       "    <tr>\n",
       "      <th>Bedrooms</th>\n",
       "      <td>1.0000</td>\n",
       "      <td>0.9719</td>\n",
       "    </tr>\n",
       "    <tr>\n",
       "      <th>Prices</th>\n",
       "      <td>0.9719</td>\n",
       "      <td>1.0000</td>\n",
       "    </tr>\n",
       "  </tbody>\n",
       "</table>\n",
       "</div>"
      ],
      "text/plain": [
       "          Bedrooms  Prices\n",
       "Bedrooms    1.0000  0.9719\n",
       "Prices      0.9719  1.0000"
      ]
     },
     "execution_count": 24,
     "metadata": {},
     "output_type": "execute_result"
    }
   ],
   "source": [
    "correlation = round(df.corr(),4)\n",
    "#sns.heatmap(correlation, cmap='Greens', annot=True)\n",
    "correlation"
   ]
  },
  {
   "cell_type": "markdown",
   "id": "3bc8ee21",
   "metadata": {},
   "source": [
    "#### - Build a regression model and estimate the regression parameters (slope and intercept).\n"
   ]
  },
  {
   "cell_type": "code",
   "execution_count": 29,
   "id": "1b415fa7",
   "metadata": {},
   "outputs": [
    {
     "name": "stdout",
     "output_type": "stream",
     "text": [
      "Intercept:39.45 and Slope:70.6667\n"
     ]
    }
   ],
   "source": [
    "Bed_array = np.array(Bedrooms).reshape((-1,1))\n",
    "Price_array = np.array(Prices)\n",
    "\n",
    "model = LinearRegression().fit(Bed_array,Price_array)\n",
    "\n",
    "intercept = round(model.intercept_,4)\n",
    "slope = round(model.coef_[0],4)\n",
    "print(f\"Intercept:{intercept} and Slope:{slope}\")"
   ]
  },
  {
   "cell_type": "code",
   "execution_count": 48,
   "id": "cfe28e20",
   "metadata": {},
   "outputs": [
    {
     "data": {
      "text/plain": [
       "(array([110.1167, 110.1167, 110.1167, 180.7833, 180.7833, 180.7833,\n",
       "        180.7833, 251.45  , 251.45  , 251.45  , 251.45  , 251.45  ,\n",
       "        251.45  , 251.45  , 322.1167, 322.1167, 322.1167, 392.7833,\n",
       "        392.7833, 463.45  ]),\n",
       " array([120, 133, 139, 185, 148, 160, 192, 205, 244, 213, 236, 280, 275,\n",
       "        273, 312, 311, 304, 415, 396, 488]))"
      ]
     },
     "execution_count": 48,
     "metadata": {},
     "output_type": "execute_result"
    }
   ],
   "source": [
    "y_hat = model.predict(Bed_array).round(4)\n",
    "y_hat,Price_array\n"
   ]
  },
  {
   "cell_type": "markdown",
   "id": "6ffb3594",
   "metadata": {},
   "source": [
    "#### Predict the house price for a house with 7 rooms"
   ]
  },
  {
   "cell_type": "code",
   "execution_count": 66,
   "id": "cf2bbcd0",
   "metadata": {},
   "outputs": [
    {
     "data": {
      "text/plain": [
       "534.1167"
      ]
     },
     "execution_count": 66,
     "metadata": {},
     "output_type": "execute_result"
    }
   ],
   "source": [
    "value = 7 \n",
    "y_pred = model.predict(np.array([[value]])).round(4)\n",
    "y_pred[0]"
   ]
  },
  {
   "cell_type": "markdown",
   "id": "aea7d3f4",
   "metadata": {},
   "source": [
    "#### Estimate the upper bound and the lower bounds of the prediction interval of a house with 7 rooms\n"
   ]
  },
  {
   "cell_type": "code",
   "execution_count": 59,
   "id": "291aa790",
   "metadata": {},
   "outputs": [
    {
     "data": {
      "text/plain": [
       "36.1474"
      ]
     },
     "execution_count": 59,
     "metadata": {},
     "output_type": "execute_result"
    }
   ],
   "source": [
    "alpha = 0.1\n",
    "N = 20\n",
    "Df= N-2\n",
    "\n",
    "\n",
    "#residual_error = (np.sqrt(np.square(Price_array-y_hat).sum()/Df))*(1+(1/N)+((np.square(value-pop_mean)))/np.square(Bedrooms-pop_mean).sum())\n",
    "residual_error = (np.sqrt(np.square(Price_array-y_hat).sum()/Df))\n",
    "residual_error*=(1+(1/N)+((np.square(value-pop_mean)))/np.square(Bedrooms-pop_mean).sum())\n",
    "residual_error.round(4)"
   ]
  },
  {
   "cell_type": "code",
   "execution_count": 64,
   "id": "81779929",
   "metadata": {},
   "outputs": [
    {
     "data": {
      "text/plain": [
       "1.7341"
      ]
     },
     "execution_count": 64,
     "metadata": {},
     "output_type": "execute_result"
    }
   ],
   "source": [
    "t_value = t.ppf(1-alpha/2, df=N-2).round(4)\n",
    "t_value"
   ]
  },
  {
   "cell_type": "code",
   "execution_count": 68,
   "id": "fe741489",
   "metadata": {},
   "outputs": [
    {
     "name": "stdout",
     "output_type": "stream",
     "text": [
      "Thre prediction 534.1167 lies between 471.4335 and 596.7999 values with 95% confidence.\n"
     ]
    }
   ],
   "source": [
    "LP = round(y_pred[0] - t_value*residual_error, 4)\n",
    "UP = round(y_pred[0] + t_value*residual_error, 4)\n",
    "print(f\"Thre prediction {y_pred[0]} lies between {LP} and {UP} values with 95% confidence.\")"
   ]
  },
  {
   "cell_type": "markdown",
   "id": "db0e1b05",
   "metadata": {},
   "source": [
    "#### Using as sample of houses that have only 3 bedrooms \n",
    " - find the lower price that can be payed for a house with 3 rooms using Tolerance interval\n",
    " - find the highest price that can be payed for a house with 3 rooms using Tolerance interval\n"
   ]
  },
  {
   "cell_type": "code",
   "execution_count": 106,
   "id": "adddf252",
   "metadata": {},
   "outputs": [
    {
     "name": "stdout",
     "output_type": "stream",
     "text": [
      " Sample2 mean is 246.5714 and standard deviartion is 28.2785\n"
     ]
    }
   ],
   "source": [
    "df2=df[df['Bedrooms']==3]\n",
    "#print(df2['Prices'])\n",
    "\n",
    "\n",
    "sample2 = df2['Prices']\n",
    "S2mean= np.mean(sample2).round(4)\n",
    "S2std = round(np.std(sample2),4)\n",
    "\n",
    "\n",
    "print(f\" Sample2 mean is {S2mean} and standard deviartion is {S2std}\")\n"
   ]
  },
  {
   "cell_type": "code",
   "execution_count": 114,
   "id": "9a7192b9",
   "metadata": {},
   "outputs": [
    {
     "name": "stdout",
     "output_type": "stream",
     "text": [
      "Sample 2 lenght is 7 and its lower/upper limits  are 175.7875 / 317.3553\n"
     ]
    }
   ],
   "source": [
    "n = len(sample2)\n",
    "\n",
    "k2= 2.5031\n",
    "\n",
    "lower_limit = (S2mean - k2*S2std).round(4)\n",
    "upper_limit = (S2mean + k2*S2std).round(4)\n",
    "print(f\"Sample 2 lenght is {n} and its lower/upper limits  are {lower_limit} / {upper_limit}\")\n",
    "\n",
    "\n"
   ]
  },
  {
   "cell_type": "code",
   "execution_count": null,
   "id": "01142872",
   "metadata": {},
   "outputs": [],
   "source": []
  }
 ],
 "metadata": {
  "kernelspec": {
   "display_name": "Python 3 (ipykernel)",
   "language": "python",
   "name": "python3"
  },
  "language_info": {
   "codemirror_mode": {
    "name": "ipython",
    "version": 3
   },
   "file_extension": ".py",
   "mimetype": "text/x-python",
   "name": "python",
   "nbconvert_exporter": "python",
   "pygments_lexer": "ipython3",
   "version": "3.11.0"
  }
 },
 "nbformat": 4,
 "nbformat_minor": 5
}
