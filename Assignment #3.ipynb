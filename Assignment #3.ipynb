{
 "cells": [
  {
   "cell_type": "markdown",
   "id": "246f2405",
   "metadata": {},
   "source": [
    " - Higher order functions\n",
    "     - Write a Python script to implement the map(), filter(), and reduce() functions on a list of integers."
   ]
  },
  {
   "cell_type": "code",
   "execution_count": 19,
   "id": "349c3bb3",
   "metadata": {},
   "outputs": [
    {
     "name": "stdout",
     "output_type": "stream",
     "text": [
      "64\n"
     ]
    }
   ],
   "source": [
    "from functools import reduce\n",
    "\n",
    "def cube(x):\n",
    "    \"\"\"Return the number to the power of 3\"\"\"\n",
    "    num = x**3\n",
    "    return num\n",
    "\n",
    "\n",
    "\n",
    "print(cube(4))\n"
   ]
  },
  {
   "cell_type": "code",
   "execution_count": 18,
   "id": "614d37d6",
   "metadata": {},
   "outputs": [
    {
     "ename": "NameError",
     "evalue": "name 'num' is not defined",
     "output_type": "error",
     "traceback": [
      "\u001b[0;31m---------------------------------------------------------------------------\u001b[0m",
      "\u001b[0;31mNameError\u001b[0m                                 Traceback (most recent call last)",
      "\u001b[0;32m<ipython-input-18-55a60ae9504f>\u001b[0m in \u001b[0;36m<module>\u001b[0;34m\u001b[0m\n\u001b[0;32m----> 1\u001b[0;31m \u001b[0mprint\u001b[0m\u001b[0;34m(\u001b[0m\u001b[0mnum\u001b[0m\u001b[0;34m)\u001b[0m\u001b[0;34m\u001b[0m\u001b[0;34m\u001b[0m\u001b[0m\n\u001b[0m",
      "\u001b[0;31mNameError\u001b[0m: name 'num' is not defined"
     ]
    }
   ],
   "source": [
    "print(num)"
   ]
  },
  {
   "cell_type": "code",
   "execution_count": 34,
   "id": "f1d8c6d6",
   "metadata": {},
   "outputs": [
    {
     "name": "stdout",
     "output_type": "stream",
     "text": [
      "[1, 8, 27, 64, 125, 216, 343, 512, 729]\n",
      "[3, 6, 9]\n",
      "162\n"
     ]
    }
   ],
   "source": [
    "from functools import reduce\n",
    "\n",
    "def cube(x):\n",
    "    \"\"\"return the number to the power of 3\"\"\"\n",
    "    num = x**3\n",
    "    return num\n",
    "\n",
    "def product(x,y):\n",
    "    \"\"\"return the multiplication between x and y\"\"\"\n",
    "    \n",
    "    return x*y\n",
    "\n",
    "if __name__=='__main__':\n",
    "    x = [1,2,3,4,5,6,7,8,9]\n",
    "   \n",
    "    \n",
    "    squares = list(map(cube, x))\n",
    "    print(squares)\n",
    "    \n",
    "    evens = list(filter(lambda x: x%3==0, x))\n",
    "    print(evens)\n",
    "    \n",
    "    product = reduce(product,evens)\n",
    "    print(product)"
   ]
  },
  {
   "cell_type": "code",
   "execution_count": 51,
   "id": "bbc3ec24",
   "metadata": {},
   "outputs": [
    {
     "name": "stdout",
     "output_type": "stream",
     "text": [
      "['JUAN', 'JORGE', 'LUIS', 'DAVID']\n",
      "[2.449489742783178, 2.8284271247461903, 4.69041575982343, 3.4641016151377544, 4.69041575982343, 4.47213595499958, 5.477225575051661, 4.242640687119285, 6.0]\n",
      "[3, 6, 9]\n"
     ]
    }
   ],
   "source": [
    "import math\n",
    "def upper_case(l):\n",
    "    \"\"\"conver all words to upper case words\"\"\"\n",
    "    word= l.upper()\n",
    "    return word\n",
    "\n",
    "\n",
    "def hipotenuse(x,y):\n",
    "    \"\"\"Returns the hipotenuses out of a list of numbers given\"\"\"\n",
    "    hipo = math.sqrt((x*2)+(y*2))\n",
    "    return hipo\n",
    "\n",
    "if __name__=='__main__':\n",
    "    l = ['juan','jorge','luis','david']\n",
    "    x = [1,2,3,4,5,6,7,8,9]\n",
    "    y = [2,2,8,2,6,4,8,1,9]\n",
    "    \n",
    "\n",
    "    upper = list(map(upper_case,l))\n",
    "    print(upper)\n",
    "    \n",
    "    hipotenuse = list(map(hipotenuse,x,y))\n",
    "    print(hipotenuse)\n",
    "    \n",
    "    evens = list(filter(lambda x: x%3==0,x))\n",
    "    print(evens)\n",
    "    \n",
    "    #product= reduce(hipotenuse,evens)\n"
   ]
  },
  {
   "cell_type": "code",
   "execution_count": null,
   "id": "0b0eda76",
   "metadata": {},
   "outputs": [],
   "source": []
  }
 ],
 "metadata": {
  "kernelspec": {
   "display_name": "Python 3",
   "language": "python",
   "name": "python3"
  },
  "language_info": {
   "codemirror_mode": {
    "name": "ipython",
    "version": 3
   },
   "file_extension": ".py",
   "mimetype": "text/x-python",
   "name": "python",
   "nbconvert_exporter": "python",
   "pygments_lexer": "ipython3",
   "version": "3.7.7"
  }
 },
 "nbformat": 4,
 "nbformat_minor": 5
}
