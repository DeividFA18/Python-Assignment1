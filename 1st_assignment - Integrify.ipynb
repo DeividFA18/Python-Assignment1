{
 "cells": [
  {
   "cell_type": "markdown",
   "id": "2c45e195",
   "metadata": {},
   "source": [
    "Section 1 - Constructor Methods"
   ]
  },
  {
   "cell_type": "code",
   "execution_count": 11,
   "id": "7df09cb1",
   "metadata": {},
   "outputs": [],
   "source": [
    "f_name = 'juan'\n",
    "l_name = 'larsen' \n",
    "\n",
    "full_name = f\"{f_name} {l_name}\""
   ]
  },
  {
   "cell_type": "code",
   "execution_count": 12,
   "id": "88a6b977",
   "metadata": {},
   "outputs": [
    {
     "name": "stdout",
     "output_type": "stream",
     "text": [
      "Juan Larsen\n",
      "JUAN LARSEN\n",
      "juan larsen\n"
     ]
    }
   ],
   "source": [
    "print(full_name.title())\n",
    "print(full_name.upper())\n",
    "print(full_name.lower())"
   ]
  },
  {
   "cell_type": "code",
   "execution_count": 10,
   "id": "aaa59cbb",
   "metadata": {},
   "outputs": [],
   "source": [
    "people_data = {'Age':'30','Name':'Carlos','Nationality':'Martian'}"
   ]
  },
  {
   "cell_type": "code",
   "execution_count": 6,
   "id": "cd7e82f4",
   "metadata": {},
   "outputs": [
    {
     "name": "stdout",
     "output_type": "stream",
     "text": [
      "{'Age': '30', 'Name': 'Carlos', 'Nationality': 'Martian'}\n",
      "Age : 30\n",
      "Name : Carlos\n",
      "Nationality : Martian\n"
     ]
    }
   ],
   "source": [
    "print(people_data)\n",
    "\n",
    "for key,value in people_data.items():\n",
    "    print(key, ':' ,value)"
   ]
  },
  {
   "cell_type": "code",
   "execution_count": 22,
   "id": "5dbf3a3c",
   "metadata": {},
   "outputs": [
    {
     "name": "stdout",
     "output_type": "stream",
     "text": [
      "{'blue', 'purple', 'orange', 'brown', 'yellow'}\n"
     ]
    }
   ],
   "source": [
    "colors_set = {'blue','orange','purple','brown','purple','yellow','orange'}\n",
    "print(colors_set)"
   ]
  },
  {
   "cell_type": "code",
   "execution_count": 25,
   "id": "c1d5bad8",
   "metadata": {},
   "outputs": [
    {
     "name": "stdout",
     "output_type": "stream",
     "text": [
      "5\n",
      "tacos\n"
     ]
    }
   ],
   "source": [
    "food_tuple = ('cepelinai','brown_peas','Gulash','tacos','brown_peas')\n",
    "print(len(food_tuple))\n",
    "print(food_tuple[-2])"
   ]
  },
  {
   "cell_type": "code",
   "execution_count": 39,
   "id": "d7ab43f8",
   "metadata": {},
   "outputs": [
    {
     "name": "stdout",
     "output_type": "stream",
     "text": [
      "['Python', 'C', 'C+', 'JavaScript']\n",
      "Python, C, C+, JavaScript\n"
     ]
    }
   ],
   "source": [
    "languages_list=['Python','C','C+','JavaScript']\n",
    "print(languages_list)\n",
    "print(*languages_list, sep=', ')"
   ]
  },
  {
   "cell_type": "code",
   "execution_count": 16,
   "id": "2b2b7eec",
   "metadata": {},
   "outputs": [],
   "source": [
    "fav_language = 'python'"
   ]
  },
  {
   "cell_type": "code",
   "execution_count": 17,
   "id": "83a5951f",
   "metadata": {},
   "outputs": [
    {
     "data": {
      "text/plain": [
       "'python'"
      ]
     },
     "execution_count": 17,
     "metadata": {},
     "output_type": "execute_result"
    }
   ],
   "source": [
    "fav_language.rstrip()"
   ]
  },
  {
   "cell_type": "code",
   "execution_count": 7,
   "id": "97a6107c",
   "metadata": {},
   "outputs": [
    {
     "data": {
      "text/plain": [
       "'Python '"
      ]
     },
     "execution_count": 7,
     "metadata": {},
     "output_type": "execute_result"
    }
   ],
   "source": [
    "fav_language.lstrip()"
   ]
  },
  {
   "cell_type": "code",
   "execution_count": 8,
   "id": "9e36f031",
   "metadata": {},
   "outputs": [
    {
     "data": {
      "text/plain": [
       "'Python'"
      ]
     },
     "execution_count": 8,
     "metadata": {},
     "output_type": "execute_result"
    }
   ],
   "source": [
    "fav_language.strip()"
   ]
  },
  {
   "cell_type": "markdown",
   "id": "18582f2b",
   "metadata": {},
   "source": [
    "Section 2 Operators"
   ]
  },
  {
   "cell_type": "code",
   "execution_count": 20,
   "id": "b8ce907c",
   "metadata": {},
   "outputs": [
    {
     "data": {
      "text/plain": [
       "5"
      ]
     },
     "execution_count": 20,
     "metadata": {},
     "output_type": "execute_result"
    }
   ],
   "source": [
    "2 + 3"
   ]
  },
  {
   "cell_type": "code",
   "execution_count": 21,
   "id": "ba3e2c4f",
   "metadata": {},
   "outputs": [
    {
     "data": {
      "text/plain": [
       "9"
      ]
     },
     "execution_count": 21,
     "metadata": {},
     "output_type": "execute_result"
    }
   ],
   "source": [
    "3 ** 2"
   ]
  },
  {
   "cell_type": "code",
   "execution_count": 22,
   "id": "f4c21171",
   "metadata": {},
   "outputs": [
    {
     "data": {
      "text/plain": [
       "14"
      ]
     },
     "execution_count": 22,
     "metadata": {},
     "output_type": "execute_result"
    }
   ],
   "source": [
    "2 + 3*4"
   ]
  },
  {
   "cell_type": "markdown",
   "id": "95fc34df",
   "metadata": {},
   "source": [
    "Section 3 Magic methods/dudner methods"
   ]
  },
  {
   "cell_type": "code",
   "execution_count": 80,
   "id": "7e573094",
   "metadata": {},
   "outputs": [
    {
     "name": "stdout",
     "output_type": "stream",
     "text": [
      "['__abs__', '__add__', '__and__', '__bool__', '__ceil__', '__class__', '__delattr__', '__dir__', '__divmod__', '__doc__', '__eq__', '__float__', '__floor__', '__floordiv__', '__format__', '__ge__', '__getattribute__', '__getnewargs__', '__gt__', '__hash__', '__index__', '__init__', '__init_subclass__', '__int__', '__invert__', '__le__', '__lshift__', '__lt__', '__mod__', '__mul__', '__ne__', '__neg__', '__new__', '__or__', '__pos__', '__pow__', '__radd__', '__rand__', '__rdivmod__', '__reduce__', '__reduce_ex__', '__repr__', '__rfloordiv__', '__rlshift__', '__rmod__', '__rmul__', '__ror__', '__round__', '__rpow__', '__rrshift__', '__rshift__', '__rsub__', '__rtruediv__', '__rxor__', '__setattr__', '__sizeof__', '__str__', '__sub__', '__subclasshook__', '__truediv__', '__trunc__', '__xor__', 'bit_length', 'conjugate', 'denominator', 'from_bytes', 'imag', 'numerator', 'real', 'to_bytes']\n",
      "10\n",
      "0\n",
      "15\n",
      "5\n"
     ]
    }
   ],
   "source": [
    "#I dont really understand magic methods application\n",
    "a=int(5)\n",
    "print(dir(a))\n",
    "print(a.__add__(5))\n",
    "print(a.__class__())\n",
    "print(a.__mul__(3))\n",
    "print(a.__str__())"
   ]
  },
  {
   "cell_type": "code",
   "execution_count": 19,
   "id": "2a293879",
   "metadata": {},
   "outputs": [],
   "source": [
    "world_regions=['scandinavia','baltics','eastern europe','iberics']"
   ]
  },
  {
   "cell_type": "code",
   "execution_count": 20,
   "id": "61605b1b",
   "metadata": {},
   "outputs": [
    {
     "name": "stdout",
     "output_type": "stream",
     "text": [
      "['scandinavia', 'baltics', 'eastern europe', 'iberics', 'mochis']\n"
     ]
    }
   ],
   "source": [
    "world_regions.append('mochis')\n",
    "print(world_regions)"
   ]
  },
  {
   "cell_type": "code",
   "execution_count": 46,
   "id": "58c779f5",
   "metadata": {},
   "outputs": [],
   "source": [
    "#del world_regions[-1]\n",
    "#print(world_regions)\n",
    "#world_regions.pop(1)\n",
    "#print(world_regions)"
   ]
  },
  {
   "cell_type": "code",
   "execution_count": 47,
   "id": "c2ffe702",
   "metadata": {},
   "outputs": [
    {
     "name": "stdout",
     "output_type": "stream",
     "text": [
      "['baltics', 'estern_europe', 'mochis', 'nordics', 'scandinavia']\n"
     ]
    }
   ],
   "source": [
    "world_regions.sort()\n",
    "print(world_regions)\n",
    "del world_regions[2]"
   ]
  },
  {
   "cell_type": "code",
   "execution_count": 48,
   "id": "2ee9ca18",
   "metadata": {},
   "outputs": [
    {
     "name": "stdout",
     "output_type": "stream",
     "text": [
      "['scandinavia', 'nordics', 'estern_europe', 'baltics']\n",
      "4\n",
      "Estern_Europe\n"
     ]
    }
   ],
   "source": [
    "world_regions.reverse()\n",
    "print(world_regions)\n",
    "print(len(world_regions))\n",
    "print(world_regions[2].title())"
   ]
  },
  {
   "cell_type": "code",
   "execution_count": 151,
   "id": "9206c281",
   "metadata": {},
   "outputs": [
    {
     "name": "stdout",
     "output_type": "stream",
     "text": [
      "[1, 4, 9, 16, 25, 36, 49, 64, 81, 100]\n"
     ]
    }
   ],
   "source": [
    "squares =[]\n",
    "for value in range(1,11):\n",
    "    square = value ** 2\n",
    "    squares.append(square)\n",
    "    \n",
    "print(squares)"
   ]
  },
  {
   "cell_type": "code",
   "execution_count": 154,
   "id": "abaeec06",
   "metadata": {},
   "outputs": [
    {
     "name": "stdout",
     "output_type": "stream",
     "text": [
      "[1, 4, 9, 16, 25, 36, 49, 64, 81, 100]\n"
     ]
    }
   ],
   "source": [
    "squares = [value ** 2 for value in range(1,11)]\n",
    "print(squares)"
   ]
  },
  {
   "cell_type": "code",
   "execution_count": 5,
   "id": "63c42611",
   "metadata": {},
   "outputs": [
    {
     "name": "stdout",
     "output_type": "stream",
     "text": [
      "1\n",
      "19\n",
      "190\n"
     ]
    }
   ],
   "source": [
    "digits = list(range(1,20))\n",
    "print(min(digits))\n",
    "print(max(digits))\n",
    "print(sum(digits))"
   ]
  },
  {
   "cell_type": "markdown",
   "id": "7b80911e",
   "metadata": {},
   "source": [
    "Section 4 - Different ways to format a string"
   ]
  },
  {
   "cell_type": "code",
   "execution_count": 17,
   "id": "1b591974",
   "metadata": {},
   "outputs": [
    {
     "name": "stdout",
     "output_type": "stream",
     "text": [
      "The Python Crash Course book costed about 150 DKK.\n",
      "My name is Juan, I'm 23 years old, and I like Playing the guitar\n",
      "Tuvalu Island is a country island located in South East Asia in planet Earth\n"
     ]
    }
   ],
   "source": [
    "print('{0} {1} book costed about {2} DKK.'.format('The','Python Crash Course', 150))\n",
    "print (\"My name is {1}, I'm {2} years old, and I like {0}\".format('Playing the guitar','Juan', '23'))\n",
    "print(\"{place} is a {country} located in {continent} in planet {planet}\".format(\n",
    "place = 'Tuvalu Island',\n",
    "country = 'country island',\n",
    "continent = 'South East Asia',\n",
    "planet = 'Earth'))"
   ]
  },
  {
   "cell_type": "code",
   "execution_count": 28,
   "id": "c91f17c5",
   "metadata": {},
   "outputs": [
    {
     "data": {
      "text/plain": [
       "'1,2,3'"
      ]
     },
     "execution_count": 28,
     "metadata": {},
     "output_type": "execute_result"
    }
   ],
   "source": [
    "a,b,c = 1,2,3\n",
    "'{0},{1},{xyz}'.format(a,b, xyz=c)"
   ]
  },
  {
   "cell_type": "code",
   "execution_count": 42,
   "id": "4e01158c",
   "metadata": {},
   "outputs": [
    {
     "name": "stdout",
     "output_type": "stream",
     "text": [
      " I have an iphone and its the 5th Edition\n",
      "I bought a Marshall major-II headset for a price of $200 American dollars.\n"
     ]
    }
   ],
   "source": [
    "metadata={'phone' : 'iphone', 'Edition':5}\n",
    "print(f\" I have an {metadata.get('phone')} and its the {metadata.get('Edition')}th Edition\")\n",
    "\n",
    "info={'headphones':'Marshall major-II','price':200}\n",
    "print(f\"I bought a {info['headphones']} headset for a price of ${info['price']} American dollars.\")"
   ]
  },
  {
   "cell_type": "code",
   "execution_count": 45,
   "id": "e3873b55",
   "metadata": {},
   "outputs": [
    {
     "name": "stdout",
     "output_type": "stream",
     "text": [
      "I love javascript\n"
     ]
    }
   ],
   "source": [
    "batch='FS'\n",
    "print(f\"I love {'javascript' if batch=='FS' else 'python'}\")"
   ]
  },
  {
   "cell_type": "code",
   "execution_count": 48,
   "id": "154f31d9",
   "metadata": {},
   "outputs": [
    {
     "name": "stdout",
     "output_type": "stream",
     "text": [
      "I'll marry Carlos\n"
     ]
    }
   ],
   "source": [
    "candidate='Juan'\n",
    "print(f\"I'll marry {'Jorge' if candidate=='Jua' else 'Carlos'}\")"
   ]
  },
  {
   "cell_type": "markdown",
   "id": "c646b2be",
   "metadata": {},
   "source": [
    "Section 5 - Indexing in python"
   ]
  },
  {
   "cell_type": "code",
   "execution_count": 92,
   "id": "79f9e211",
   "metadata": {},
   "outputs": [
    {
     "name": "stdout",
     "output_type": "stream",
     "text": [
      "Catch me if you can\n",
      "['Inception', 'Dark Knight', 'Eurovision', 'Catch me if you can', 'The Departed']\n",
      "['Jurassic Park', 'Inception', 'Dark Knight', 'Eurovision', 'Catch me if you can']\n",
      "The Departed\n",
      "['Eurovision', 'Catch me if you can', 'The Departed']\n",
      "range(1, 6, 2)\n",
      "Inception The Departed\n",
      "The Departed Catch me if you can Eurovision\n",
      "['The Departed', 'Catch me if you can', 'Eurovision', 'Dark Knight', 'Inception', 'Jurassic Park']\n",
      "['The Departed', 'Eurovision', 'Inception']\n"
     ]
    }
   ],
   "source": [
    "movies =['Jurassic Park','Inception','Dark Knight','Eurovision','Catch me if you can','The Departed']\n",
    "print(movies[4]) #--a\n",
    "print(movies[1:]) #--b\n",
    "print(movies[:5]) #--c\n",
    "print(movies[-1]) #--d\n",
    "print(movies[-3:]) #--f\n",
    "print(range(1,len(movies),2)) #g---cant make this one work\n",
    "print(movies[1],movies[-1]) #--h\n",
    "print(movies[-1], movies[-2], movies[-3]) #--i\n",
    "movies.reverse()\n",
    "print(movies) #--j"
   ]
  },
  {
   "cell_type": "code",
   "execution_count": 114,
   "id": "d255c989",
   "metadata": {},
   "outputs": [
    {
     "name": "stdout",
     "output_type": "stream",
     "text": [
      "['Jurassic Park', 'Dark Knight', 'Catch me if you can']\n",
      "['Inception', 'Eurovision', 'The Departed']\n",
      "range(0, 0)\n",
      "['Jurassic Park', 'Inception']\n",
      "[(0, 'Jurassic Park'), (1, 'Inception'), (2, 'Dark Knight'), (3, 'Eurovision'), (4, 'Catch me if you can'), (5, 'The Departed')]\n"
     ]
    }
   ],
   "source": [
    "movies =['Jurassic Park','Inception','Dark Knight','Eurovision','Catch me if you can','The Departed']\n",
    "print(movies[::2]) #--k\n",
    "print(movies[1:100:2]) #--l\n",
    "print(range(len(movies[1:0:2]))) #--m I dont think I did this correctly\n",
    "print(['Jurassic Park','Inception']) #--n not sure if this was te result expected\n",
    "print(list(enumerate(movies))) #--o\n",
    "\n",
    "\n"
   ]
  },
  {
   "cell_type": "markdown",
   "id": "9a3af9d7",
   "metadata": {},
   "source": [
    "Section 6 - Exercise on Dictionaries"
   ]
  },
  {
   "cell_type": "code",
   "execution_count": 7,
   "id": "ad44825a",
   "metadata": {},
   "outputs": [
    {
     "name": "stdout",
     "output_type": "stream",
     "text": [
      "{'a': 1, 'b': 2, 'c': 3, 'd': 4, 'f': 5, 'g': 6}\n"
     ]
    }
   ],
   "source": [
    "x =['a','b','c','d','f','g'] #--a\n",
    "y = [1,2,3,4,5,6]\n",
    "\n",
    "z = dict(zip(x,y))\n",
    "print(z)"
   ]
  },
  {
   "cell_type": "code",
   "execution_count": null,
   "id": "3b35ddfb",
   "metadata": {},
   "outputs": [],
   "source": [
    "dict_1 = {'a':1,'b':2,'c':3} #--b\n",
    "dict_2 = {'d':4,'e':5,'f':6}\n",
    "\n",
    "dict_1.update(dict_2)\n",
    "print(dict_1)\n"
   ]
  },
  {
   "cell_type": "code",
   "execution_count": 8,
   "id": "07aaeb12",
   "metadata": {},
   "outputs": [
    {
     "name": "stdout",
     "output_type": "stream",
     "text": [
      "{'duy': ['python', 'database', 'ml'], 'laxmi': ['python', 'database', 'ml'], 'antonio': ['python', 'database', 'ml'], 'maria': ['python', 'database', 'ml']}\n"
     ]
    }
   ],
   "source": [
    "students=['duy','laxmi','antonio','maria']   #-- b\n",
    "course=['python','database','ml']\n",
    "\n",
    "\n",
    "dict={}\n",
    "\n",
    "for student in students:\n",
    "    dict[student]=course  #I have to confess that I asked for help here I knew this \n",
    "print(dict)                # was to be done with a for loop but missed the mechanism to achieve the final result."
   ]
  },
  {
   "cell_type": "code",
   "execution_count": 75,
   "id": "c085ee4f",
   "metadata": {},
   "outputs": [
    {
     "name": "stdout",
     "output_type": "stream",
     "text": [
      "{'duy': ['python', 'database', 'ml'], 'laxmi': ['python', 'database', 'ml'], 'antonio': ['JavaScript', 'Database', 'NodeJS', 'Vuej'], 'maria': ['python', 'database', 'ml']}\n",
      "{'duy': ['python', 'database', 'ml'], 'laxmi': ['python', 'database', 'ml'], 'antonio': ['JavaScript', 'Database', 'NodeJS'], 'maria': ['python', 'database', 'ml']}\n",
      "{'duy': ['python', 'database', 'ml'], 'laxmi': ['python', 'database', 'ml'], 'antonio': ['JavaScript', 'NodeJS'], 'maria': ['python', 'database', 'ml']}\n"
     ]
    }
   ],
   "source": [
    "students=['duy','laxmi','antonio','maria']  #-- c\n",
    "course=['python','database','ml']\n",
    "\n",
    "\n",
    "dict={}\n",
    "\n",
    "for student in students:\n",
    "    dict[student]=course\n",
    "    \n",
    "#print(dict)    \n",
    "\n",
    "dict['antonio']= ['JavaScript','Database','NodeJS'] #--d\n",
    "#print(dict)\n",
    "\n",
    "dict['antonio'].append('ReactJs') #--e\n",
    "#print(dict)\n",
    "\n",
    "dict['antonio'][3]='Vuej' #--f\n",
    "print(dict)\n",
    "\n",
    "dict['antonio'].pop() #--g using popitem generated a problem\n",
    "print(dict)\n",
    "\n",
    "del dict['antonio'][1] #--another way to remove by indexing\n",
    "print(dict)"
   ]
  },
  {
   "cell_type": "code",
   "execution_count": null,
   "id": "aefe3352",
   "metadata": {},
   "outputs": [],
   "source": []
  }
 ],
 "metadata": {
  "kernelspec": {
   "display_name": "Python 3",
   "language": "python",
   "name": "python3"
  },
  "language_info": {
   "codemirror_mode": {
    "name": "ipython",
    "version": 3
   },
   "file_extension": ".py",
   "mimetype": "text/x-python",
   "name": "python",
   "nbconvert_exporter": "python",
   "pygments_lexer": "ipython3",
   "version": "3.7.7"
  }
 },
 "nbformat": 4,
 "nbformat_minor": 5
}
