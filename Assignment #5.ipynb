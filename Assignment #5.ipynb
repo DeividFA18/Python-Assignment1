{
 "cells": [
  {
   "cell_type": "code",
   "execution_count": 2,
   "id": "66f4fa63",
   "metadata": {},
   "outputs": [
    {
     "name": "stdout",
     "output_type": "stream",
     "text": [
      "<class 'int'> <class 'str'>\n",
      "<class 'type'>\n",
      "<class 'type'>\n",
      "<class 'type'>\n",
      "<class 'type'>\n",
      "<class 'type'>\n",
      "<class 'builtin_function_or_method'>\n",
      "<class 'function'>\n",
      "<class 'type'>\n"
     ]
    }
   ],
   "source": [
    "a = 5\n",
    "b = \"your name is\"\n",
    "\n",
    "print(type(a),type(b))\n",
    "\n",
    "def function():\n",
    "    return\n",
    "\n",
    "class someclass:\n",
    "    pass\n",
    "\n",
    "list_a = [int,str,tuple,dict,list,print,function,someclass]\n",
    "for item in list_a:\n",
    "    print(type(item))"
   ]
  },
  {
   "cell_type": "code",
   "execution_count": 3,
   "id": "d639d715",
   "metadata": {},
   "outputs": [
    {
     "name": "stdout",
     "output_type": "stream",
     "text": [
      "\n",
      "<class 'int'>\n",
      "<class 'str'>\n",
      "<class 'tuple'>\n",
      "<class 'dict'>\n",
      "<class 'list'>\n",
      "<class 'NoneType'>\n",
      "<class 'function'>\n",
      "<class 'type'>\n"
     ]
    }
   ],
   "source": [
    "list_b = [int(),str(),tuple(),dict(),list(),print(),function,someclass]\n",
    "for item in list_b:\n",
    "    print(type(item))"
   ]
  },
  {
   "cell_type": "markdown",
   "id": "6f3ab03d",
   "metadata": {},
   "source": [
    "- Create two classes Pet and Dog 1. Requirements for Pet class"
   ]
  },
  {
   "cell_type": "code",
   "execution_count": 24,
   "id": "5db50bd2",
   "metadata": {},
   "outputs": [
    {
     "name": "stdout",
     "output_type": "stream",
     "text": [
      "my dog is a puppy!.\n",
      "kuba says hi when you hear guau guau!!\n",
      "my pet is a dog called kuba and its age is 3\n"
     ]
    }
   ],
   "source": [
    "class Pet:\n",
    "    def __init__(self,name,category,age):\n",
    "        self.name = name\n",
    "        self.category = category\n",
    "        self.age = age\n",
    "        self.years_passed = 5\n",
    "        self.pet_greeting = 'guau guau!'\n",
    "        \n",
    "    def greeting (self, greeting):\n",
    "        print(f\"{my_pet.name} says hi when you hear {self.pet_greeting}!\")\n",
    "            \n",
    "    \n",
    "        \n",
    "    def timepassedby(self,years):\n",
    "        if years >= self.years_passed:\n",
    "            print(f\"my {my_pet.category} is {self.year_passed} old\")\n",
    "        else:\n",
    "            print(f\"my {my_pet.category} is a puppy!.\")\n",
    "            \n",
    "\n",
    "\n",
    "\n",
    "\n",
    "my_pet = Pet('kuba','dog',3)\n",
    "my_pet.timepassedby(3)\n",
    "my_pet.greeting('')\n",
    "print(f\"my pet is a {my_pet.category} called {my_pet.name} and its age is {my_pet.age}\")"
   ]
  },
  {
   "cell_type": "code",
   "execution_count": null,
   "id": "90302883",
   "metadata": {},
   "outputs": [],
   "source": []
  }
 ],
 "metadata": {
  "kernelspec": {
   "display_name": "Python 3",
   "language": "python",
   "name": "python3"
  },
  "language_info": {
   "codemirror_mode": {
    "name": "ipython",
    "version": 3
   },
   "file_extension": ".py",
   "mimetype": "text/x-python",
   "name": "python",
   "nbconvert_exporter": "python",
   "pygments_lexer": "ipython3",
   "version": "3.7.7"
  }
 },
 "nbformat": 4,
 "nbformat_minor": 5
}
