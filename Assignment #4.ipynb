{
 "cells": [
  {
   "cell_type": "markdown",
   "id": "10f6be59",
   "metadata": {},
   "source": [
    " - Python Basics: Iters and generators,regex, comprehension"
   ]
  },
  {
   "cell_type": "markdown",
   "id": "c9ea8fa8",
   "metadata": {},
   "source": [
    "- Create a list apply iter method to it and run next method until you get StopIteration error"
   ]
  },
  {
   "cell_type": "code",
   "execution_count": 15,
   "id": "dfb76e82",
   "metadata": {},
   "outputs": [
    {
     "name": "stdout",
     "output_type": "stream",
     "text": [
      "juan\n",
      "carlos\n",
      "marcos\n",
      "pancho\n"
     ]
    }
   ],
   "source": [
    "names = ['juan','carlos','marcos','pancho']\n",
    "\n",
    "iterator = iter(names)\n",
    "\n",
    "while True:\n",
    "    try: \n",
    "        name = next(iterator)\n",
    "        print(name)\n",
    "    except StopIteration:\n",
    "        break\n",
    "\n",
    "#print(next(iterator))\n",
    "#print(next(iterator))\n",
    "#print(next(iterator))"
   ]
  },
  {
   "cell_type": "code",
   "execution_count": 1,
   "id": "99d54e7a",
   "metadata": {},
   "outputs": [
    {
     "name": "stdout",
     "output_type": "stream",
     "text": [
      "python\n",
      "C#\n",
      "java\n",
      "R\n",
      "julia\n"
     ]
    }
   ],
   "source": [
    "programming_languages=['python','C#','java','R','julia']\n",
    "\n",
    "iterator = iter(programming_languages)\n",
    "\n",
    "while True:\n",
    "    try:\n",
    "        language = next(iterator)\n",
    "        print(language)\n",
    "    except StopIteration:\n",
    "        break"
   ]
  },
  {
   "cell_type": "markdown",
   "id": "321791fe",
   "metadata": {},
   "source": [
    "- Import itertools in your notebook and create infinite iterators using count,cycle and and repeat methods"
   ]
  },
  {
   "cell_type": "code",
   "execution_count": 3,
   "id": "22962f45",
   "metadata": {},
   "outputs": [],
   "source": [
    "import itertools\n",
    "\n"
   ]
  },
  {
   "cell_type": "code",
   "execution_count": 4,
   "id": "612ecead",
   "metadata": {},
   "outputs": [
    {
     "name": "stdout",
     "output_type": "stream",
     "text": [
      "3\n",
      "4\n",
      "5\n",
      "6\n",
      "7\n"
     ]
    }
   ],
   "source": [
    "counter = itertools.count(start=3)\n",
    "\n",
    "for i in range(5):\n",
    "    print(next(counter))"
   ]
  },
  {
   "cell_type": "code",
   "execution_count": 5,
   "id": "c761ecdc",
   "metadata": {},
   "outputs": [
    {
     "name": "stdout",
     "output_type": "stream",
     "text": [
      "1\n",
      "2\n",
      "3\n",
      "4\n",
      "5\n",
      "1\n",
      "2\n",
      "3\n",
      "4\n",
      "5\n"
     ]
    }
   ],
   "source": [
    "num_list=[1,2,3,4,5]\n",
    "\n",
    "cycler = itertools.cycle(num_list)\n",
    "\n",
    "for i in range(10):\n",
    "    print(next(cycler))\n",
    "\n",
    "\n"
   ]
  },
  {
   "cell_type": "code",
   "execution_count": 6,
   "id": "3b71a003",
   "metadata": {},
   "outputs": [
    {
     "name": "stdout",
     "output_type": "stream",
     "text": [
      "[1, 2, 3, 4, 5]\n",
      "[1, 2, 3, 4, 5]\n",
      "[1, 2, 3, 4, 5]\n",
      "[1, 2, 3, 4, 5]\n",
      "[1, 2, 3, 4, 5]\n"
     ]
    }
   ],
   "source": [
    "num_list=[1,2,3,4,5]\n",
    "\n",
    "cycler = itertools.repeat(num_list)\n",
    "\n",
    "for i in range(5):\n",
    "    print(next(cycler))"
   ]
  },
  {
   "cell_type": "markdown",
   "id": "3ef26b4e",
   "metadata": {},
   "source": [
    "- Use methods from I terators terminating on the shortest input sequence"
   ]
  },
  {
   "cell_type": "code",
   "execution_count": 7,
   "id": "91ea9541",
   "metadata": {},
   "outputs": [
    {
     "name": "stdout",
     "output_type": "stream",
     "text": [
      "the batman\n",
      "movie is\n",
      "the best\n"
     ]
    }
   ],
   "source": [
    "short_list=['the','movie','the']\n",
    "long_list=['batman','is','best','d','e','f']\n",
    "\n",
    "for x,y in zip(short_list,long_list):\n",
    "    print(x,y)"
   ]
  },
  {
   "cell_type": "code",
   "execution_count": 8,
   "id": "30e58af0",
   "metadata": {},
   "outputs": [
    {
     "name": "stdout",
     "output_type": "stream",
     "text": [
      "2\n",
      "36\n",
      "150\n"
     ]
    }
   ],
   "source": [
    "pair_num = [2,4,6,]\n",
    "odd_num = [1,3,5,7,9]\n",
    "\n",
    "result = map(lambda x,y:x * (y**2),pair_num,odd_num)\n",
    "             \n",
    "for value in result:\n",
    "    print(value)\n",
    "             \n"
   ]
  },
  {
   "cell_type": "markdown",
   "id": "291890a4",
   "metadata": {},
   "source": [
    "- User methods from Combinatoric iterator"
   ]
  },
  {
   "cell_type": "code",
   "execution_count": 10,
   "id": "25143bce",
   "metadata": {},
   "outputs": [
    {
     "name": "stdout",
     "output_type": "stream",
     "text": [
      "(1, 1, 1)\n",
      "(1, 1, 2)\n",
      "(1, 1, 3)\n",
      "(1, 1, 4)\n",
      "(1, 1, 5)\n",
      "(1, 2, 1)\n",
      "(1, 2, 2)\n",
      "(1, 2, 3)\n",
      "(1, 2, 4)\n",
      "(1, 2, 5)\n",
      "(1, 3, 1)\n",
      "(1, 3, 2)\n",
      "(1, 3, 3)\n",
      "(1, 3, 4)\n",
      "(1, 3, 5)\n"
     ]
    }
   ],
   "source": [
    "num_list=[1,2,3,4,5]\n",
    "\n",
    "cycler = itertools.product(num_list,repeat=3)\n",
    "\n",
    "for i in range(15):\n",
    "    print(next(cycler))\n",
    "\n"
   ]
  },
  {
   "cell_type": "code",
   "execution_count": 38,
   "id": "57a3fe6a",
   "metadata": {},
   "outputs": [
    {
     "name": "stdout",
     "output_type": "stream",
     "text": [
      "(1, 2)\n",
      "(1, 3)\n",
      "(1, 4)\n",
      "(1, 5)\n",
      "(2, 1)\n",
      "(2, 3)\n",
      "(2, 4)\n",
      "(2, 5)\n",
      "(3, 1)\n",
      "(3, 2)\n"
     ]
    }
   ],
   "source": [
    "num_list=[1,2,3,4,5]\n",
    "\n",
    "cycler = itertools.permutations(num_list,2)\n",
    "\n",
    "for i in range(10):\n",
    "    print(next(cycler))"
   ]
  },
  {
   "cell_type": "code",
   "execution_count": 39,
   "id": "cf2e3d82",
   "metadata": {},
   "outputs": [
    {
     "name": "stdout",
     "output_type": "stream",
     "text": [
      "(1, 2)\n",
      "(1, 3)\n",
      "(1, 4)\n",
      "(1, 5)\n",
      "(2, 3)\n",
      "(2, 4)\n",
      "(2, 5)\n",
      "(3, 4)\n",
      "(3, 5)\n",
      "(4, 5)\n"
     ]
    }
   ],
   "source": [
    "num_list=[1,2,3,4,5]\n",
    "\n",
    "cycler = itertools.combinations(num_list,2)\n",
    "\n",
    "for i in range(10):\n",
    "    print(next(cycler))"
   ]
  },
  {
   "cell_type": "code",
   "execution_count": 40,
   "id": "f283a275",
   "metadata": {},
   "outputs": [
    {
     "name": "stdout",
     "output_type": "stream",
     "text": [
      "(1, 1)\n",
      "(1, 2)\n",
      "(1, 3)\n",
      "(1, 4)\n",
      "(1, 5)\n",
      "(2, 2)\n",
      "(2, 3)\n",
      "(2, 4)\n",
      "(2, 5)\n",
      "(3, 3)\n"
     ]
    }
   ],
   "source": [
    "num_list=[1,2,3,4,5]\n",
    "\n",
    "cycler = itertools.combinations_with_replacement(num_list,2)\n",
    "\n",
    "for i in range(10):\n",
    "    print(next(cycler))"
   ]
  },
  {
   "cell_type": "markdown",
   "id": "a70dd393",
   "metadata": {},
   "source": [
    "- Regular expressions"
   ]
  },
  {
   "cell_type": "code",
   "execution_count": 19,
   "id": "9a98b188",
   "metadata": {},
   "outputs": [
    {
     "name": "stdout",
     "output_type": "stream",
     "text": [
      "False\n",
      "False\n"
     ]
    }
   ],
   "source": [
    "import re\n",
    "\n",
    "def is_allowed_specific_char(string):\n",
    "    #charRe = re.compile(r'[^a-zA-Z0-9]')\n",
    "    charRe = re.compile(r'[^a-zA]')\n",
    "    string = charRe.search(string)\n",
    "    return not bool(string)\n",
    "\n",
    "print(is_allowed_specific_char('ABCDEFabcdef123450'))\n",
    "print(is_allowed_specific_char(\"*&%@#!}{\"))\n",
    "    "
   ]
  },
  {
   "cell_type": "code",
   "execution_count": 32,
   "id": "f2e3d89d",
   "metadata": {},
   "outputs": [
    {
     "name": "stdout",
     "output_type": "stream",
     "text": [
      "Not matched!\n",
      "Not matched!\n",
      "Found a match!\n",
      "Found a match!\n",
      "Found a match!\n"
     ]
    }
   ],
   "source": [
    "def text_match(text):\n",
    "    patterns = '^a(b*)$'\n",
    "    if re.search(patterns, text):\n",
    "        return 'Found a match!'\n",
    "    else:\n",
    "        return('Not matched!')\n",
    "    \n",
    "print(text_match('ac'))\n",
    "print(text_match('abc'))\n",
    "print(text_match('abb'))\n",
    "print(text_match('a'))\n",
    "print(text_match('ab'))"
   ]
  },
  {
   "cell_type": "code",
   "execution_count": 38,
   "id": "d81cdd0d",
   "metadata": {},
   "outputs": [
    {
     "name": "stdout",
     "output_type": "stream",
     "text": [
      "Found a match\n",
      "Found a match\n",
      "Found a match\n",
      "Not matched!\n"
     ]
    }
   ],
   "source": [
    "def text_match(text):\n",
    "    patterns = 'ab+?'\n",
    "    if re.search(patterns,text):\n",
    "        return 'Found a match'\n",
    "    else:\n",
    "        return('Not matched!')\n",
    "    \n",
    "print(text_match('hablar'))\n",
    "print(text_match('abc'))\n",
    "print(text_match('abb'))\n",
    "print(text_match('xyz'))"
   ]
  },
  {
   "cell_type": "markdown",
   "id": "79f48aea",
   "metadata": {},
   "source": [
    "- Comprehension\n"
   ]
  },
  {
   "cell_type": "markdown",
   "id": "4db10fda",
   "metadata": {},
   "source": [
    " - Write a multiplication table of any given number in a list using list comprehension"
   ]
  },
  {
   "cell_type": "code",
   "execution_count": 39,
   "id": "8a9208ce",
   "metadata": {},
   "outputs": [
    {
     "name": "stdout",
     "output_type": "stream",
     "text": [
      "[5, 10, 15, 20, 25, 30, 35, 40, 45]\n"
     ]
    }
   ],
   "source": [
    "number =5\n",
    "\n",
    "\n",
    "numbers= [number * i for i in range(1,10)]\n",
    "print(numbers)"
   ]
  },
  {
   "cell_type": "code",
   "execution_count": 49,
   "id": "1ee702e8",
   "metadata": {},
   "outputs": [
    {
     "name": "stdout",
     "output_type": "stream",
     "text": [
      "[6, 12, 18, 24, 30, 36, 42, 48, 54]\n"
     ]
    }
   ],
   "source": [
    "number =6\n",
    "numbers = [number*i for i in range(1,10) if number>=5]\n",
    "print(numbers)"
   ]
  },
  {
   "cell_type": "markdown",
   "id": "37462bf9",
   "metadata": {},
   "source": [
    "- Find all numbers from 1 to 500 that has 5 in them"
   ]
  },
  {
   "cell_type": "code",
   "execution_count": 60,
   "id": "00e03d1e",
   "metadata": {},
   "outputs": [],
   "source": [
    "#multiple_of_5 = 5 error corrected in next tabs\n",
    "\n",
    "\n",
    "#numbers= [multiple_of_5/5 for i in range(1,500) if number/5]\n",
    "#print(numbers)"
   ]
  },
  {
   "cell_type": "code",
   "execution_count": 57,
   "id": "8f9ea9ca",
   "metadata": {},
   "outputs": [
    {
     "name": "stdout",
     "output_type": "stream",
     "text": [
      "[5, 15, 25, 35, 45, 50, 51, 52, 53, 54, 55, 56, 57, 58, 59, 65, 75, 85, 95, 105, 115, 125, 135, 145, 150, 151, 152, 153, 154, 155, 156, 157, 158, 159, 165, 175, 185, 195, 205, 215, 225, 235, 245, 250, 251, 252, 253, 254, 255, 256, 257, 258, 259, 265, 275, 285, 295, 305, 315, 325, 335, 345, 350, 351, 352, 353, 354, 355, 356, 357, 358, 359, 365, 375, 385, 395, 405, 415, 425, 435, 445, 450, 451, 452, 453, 454, 455, 456, 457, 458, 459, 465, 475, 485, 495, 500]\n"
     ]
    }
   ],
   "source": [
    "numbers_with_5 = [] #normal for loop\n",
    "\n",
    "for i in range(1,501):\n",
    "    if '5' in str(i):\n",
    "        numbers_with_5.append(i)\n",
    "        \n",
    "print(numbers_with_5)\n",
    "    "
   ]
  },
  {
   "cell_type": "code",
   "execution_count": 59,
   "id": "e7150577",
   "metadata": {},
   "outputs": [
    {
     "name": "stdout",
     "output_type": "stream",
     "text": [
      "[5, 15, 25, 35, 45, 50, 51, 52, 53, 54, 55, 56, 57, 58, 59, 65, 75, 85, 95, 105, 115, 125, 135, 145, 150, 151, 152, 153, 154, 155, 156, 157, 158, 159, 165, 175, 185, 195, 205, 215, 225, 235, 245, 250, 251, 252, 253, 254, 255, 256, 257, 258, 259, 265, 275, 285, 295, 305, 315, 325, 335, 345, 350, 351, 352, 353, 354, 355, 356, 357, 358, 359, 365, 375, 385, 395, 405, 415, 425, 435, 445, 450, 451, 452, 453, 454, 455, 456, 457, 458, 459, 465, 475, 485, 495, 500]\n"
     ]
    }
   ],
   "source": [
    "numbers_with_5 = [i for i in range(1,501) if '5' in str(i)] #same as previous but done with list comprehension\n",
    "print(numbers_with_5)"
   ]
  },
  {
   "cell_type": "markdown",
   "id": "8332e99e",
   "metadata": {},
   "source": [
    "- Given the list of items=[\"apple\",True,10,\"banana\",20,30,4.0,\"grapes\",\"laptop\",\"phone\", False,0], generate the list of non-string values"
   ]
  },
  {
   "cell_type": "code",
   "execution_count": 64,
   "id": "aca913c6",
   "metadata": {},
   "outputs": [
    {
     "name": "stdout",
     "output_type": "stream",
     "text": [
      "['apple', 'banana', 'grapes', 'laptop', 'phone']\n"
     ]
    }
   ],
   "source": [
    "items=[\"apple\",True,10,\"banana\",20,30,4.0,\"grapes\",\"laptop\",\"phone\", False,0]\n",
    "\n",
    "only_strings=[]\n",
    "\n",
    "for string in items:\n",
    "    if isinstance(string,str):\n",
    "        only_strings.append(string)\n",
    "print(only_strings)\n",
    "    "
   ]
  },
  {
   "cell_type": "code",
   "execution_count": 70,
   "id": "8678896d",
   "metadata": {},
   "outputs": [
    {
     "name": "stdout",
     "output_type": "stream",
     "text": [
      "['apple', 'banana', 'grapes', 'laptop', 'phone']\n",
      "[True, False]\n"
     ]
    }
   ],
   "source": [
    "only_strings=[string for string in items if isinstance(string,str)]\n",
    "print(only_strings)\n",
    "\n",
    "#only_booleans=[boolean for boolean in items if isinstance(boolean,bool)]\n",
    "#print(only_booleans)"
   ]
  },
  {
   "cell_type": "code",
   "execution_count": 75,
   "id": "343fac53",
   "metadata": {},
   "outputs": [
    {
     "name": "stdout",
     "output_type": "stream",
     "text": [
      "['False', 'True', 'True', 'False', 'True', 'True', 'False', 'False', 'False', 'True', 'True']\n"
     ]
    }
   ],
   "source": [
    "items=[\"apple\",True,10,\"banana\",20,30,4.0,\"grapes\",\"laptop\",\"phone\", False,0]\n",
    "\n",
    "true_false = []\n",
    "\n",
    "for item in items:\n",
    "    if isinstance(item,str):\n",
    "        string='False'\n",
    "    elif isinstance(item,int):\n",
    "        string='True'\n",
    "    else:\n",
    "        continue\n",
    "    true_false.append(string)\n",
    "print(true_false)"
   ]
  },
  {
   "cell_type": "code",
   "execution_count": 82,
   "id": "6bc54401",
   "metadata": {},
   "outputs": [
    {
     "name": "stdout",
     "output_type": "stream",
     "text": [
      "['False', 'True', 'True', 'False', 'True', 'True', 'False', 'False', 'False', 'True', 'True']\n"
     ]
    }
   ],
   "source": [
    "true_false = ['False' if isinstance(item,str) else 'True' for item in items if isinstance(item,str) or isinstance(item,int)]\n",
    "print(true_false) #using list comprehension"
   ]
  },
  {
   "cell_type": "markdown",
   "id": "bb9139de",
   "metadata": {},
   "source": [
    "- Generate two lists of cat and dog image files"
   ]
  },
  {
   "cell_type": "code",
   "execution_count": 90,
   "id": "d2543bd7",
   "metadata": {},
   "outputs": [
    {
     "name": "stdout",
     "output_type": "stream",
     "text": [
      "['cat1.png', 'cat2.png', 'cat3.png', 'cat4.png', 'cat5.png', 'cat6.png']\n",
      "['dog1.png', 'dog2.png', 'dog3.png']\n"
     ]
    }
   ],
   "source": [
    "files=[\"cat1.png\",\"dog1.png\",\"cat2.png\",\"cat3.png\",\"cat4.png\",\"dog2.png\",\"cat5.png\",\"cat6.png\",\"dog3.png\"]\n",
    "\n",
    "cat_list=[]\n",
    "dog_list=[]\n",
    "\n",
    "\n",
    "for item in files:\n",
    "    if \"cat\" in item:\n",
    "        cat_list.append(item)\n",
    "    elif \"dog\" in item:\n",
    "        dog_list.append(item)\n",
    "print(cat_list)\n",
    "print(dog_list)"
   ]
  },
  {
   "cell_type": "code",
   "execution_count": 104,
   "id": "cf2e0577",
   "metadata": {},
   "outputs": [
    {
     "name": "stdout",
     "output_type": "stream",
     "text": [
      "For loop time: 3.658736228942871 seconds\n"
     ]
    }
   ],
   "source": [
    "import time\n",
    "\n",
    "start_time = time.time()\n",
    "\n",
    "nums = []\n",
    "\n",
    "for i in range(1,10000001):\n",
    "    nums.append(i**2)\n",
    "    \n",
    "end_time = time.time()\n",
    "for_loop_time = end_time - start_time\n",
    "\n",
    "print('For loop time:', str(for_loop_time) + ' seconds')"
   ]
  },
  {
   "cell_type": "code",
   "execution_count": 105,
   "id": "5ded6ee9",
   "metadata": {},
   "outputs": [
    {
     "name": "stdout",
     "output_type": "stream",
     "text": [
      "List comprehension time:  4.109327077865601 seconds\n"
     ]
    }
   ],
   "source": [
    "start_time = time.time()\n",
    "\n",
    "nums = [nums.append(i**2) for i in range(1,10000001)]\n",
    "\n",
    "end_time= time.time()\n",
    "list_comp= end_time - start_time\n",
    "\n",
    "print('List comprehension time: ', str(list_comp) + ' seconds')"
   ]
  },
  {
   "cell_type": "markdown",
   "id": "b39ae602",
   "metadata": {},
   "source": [
    "What could be the reason the list comprehension is more elegant?\n",
    "\n",
    "#List comprehesion is more consice and makes your code cleaner, somehow I noticed that list comprehension took more time to rpdocue a result but dont know why."
   ]
  },
  {
   "cell_type": "code",
   "execution_count": null,
   "id": "7dabe211",
   "metadata": {},
   "outputs": [],
   "source": []
  }
 ],
 "metadata": {
  "kernelspec": {
   "display_name": "Python 3",
   "language": "python",
   "name": "python3"
  },
  "language_info": {
   "codemirror_mode": {
    "name": "ipython",
    "version": 3
   },
   "file_extension": ".py",
   "mimetype": "text/x-python",
   "name": "python",
   "nbconvert_exporter": "python",
   "pygments_lexer": "ipython3",
   "version": "3.7.7"
  }
 },
 "nbformat": 4,
 "nbformat_minor": 5
}
