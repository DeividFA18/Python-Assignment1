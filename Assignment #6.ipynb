{
 "cells": [
  {
   "cell_type": "markdown",
   "id": "99b315a2",
   "metadata": {},
   "source": [
    " - Your task is to write unit tests for a Python function that checks whether a given number is prime or not. The function takes an integer as input and returns a boolean value indicating whether the number is prime or not."
   ]
  },
  {
   "cell_type": "markdown",
   "id": "26b773c5",
   "metadata": {},
   "source": [
    "Your tests should cover various cases such as:\n",
    "\n",
    "Test for negative numbers\n",
    "Test for 0 and 1\n",
    "Test for small prime numbers (e.g., 2, 3, 5, 7)\n",
    "Test for small composite numbers (e.g., 4, 6, 8, 9)\n",
    "Test for large prime numbers (e.g., 103, 107, 109)\n",
    "Test for large composite numbers (e.g., 100, 200, 300)"
   ]
  },
  {
   "cell_type": "code",
   "execution_count": 2,
   "id": "9d6259e2",
   "metadata": {},
   "outputs": [],
   "source": [
    "import unittest"
   ]
  },
  {
   "cell_type": "code",
   "execution_count": 3,
   "id": "398a171c",
   "metadata": {},
   "outputs": [],
   "source": [
    "#def is_prime(n: int):\n",
    " #   if n <= 1:\n",
    "  #      return False\n",
    "   # for i in range(2, int(n**0.5) + 1):\n",
    "    #    if n % i == 0:\n",
    "     #       return False\n",
    "    #return True\n",
    "#n = [1,2,3,4,5,6]\n",
    "\n"
   ]
  },
  {
   "cell_type": "code",
   "execution_count": 4,
   "id": "42c293b3",
   "metadata": {},
   "outputs": [],
   "source": [
    "#class TestPrime(unittest.TestCase):\n",
    "    \n",
    "    \n",
    "    #def is_prime(n: int):\n",
    "       # if n <= 1:\n",
    "        #    return False\n",
    "        #for i in range(2, int(n**0.5) + 1):\n",
    "         #   if n % i == 0:\n",
    "         #       return False\n",
    "         #   return True\n",
    "    \n",
    "    \n",
    "    \n",
    "    #def test_is_prime(self):\n",
    "     #   n = [1,2,3,4,5,6,7]\n",
    "      #  for num in n:\n",
    "    #     result = is_prime(num)\n",
    "      #      if num in [1,2,3,4,5,6,7]:\n",
    "       #         self.assertFalse(result)\n",
    "        #    else:\n",
    "         #       self.assertTrue(result)\n",
    "#if __name__ == '__main__':\n",
    " #   unittest.main()\n"
   ]
  },
  {
   "cell_type": "code",
   "execution_count": 5,
   "id": "e9945cc7",
   "metadata": {},
   "outputs": [
    {
     "name": "stderr",
     "output_type": "stream",
     "text": [
      "\n",
      "----------------------------------------------------------------------\n",
      "Ran 0 tests in 0.000s\n",
      "\n",
      "OK\n"
     ]
    }
   ],
   "source": [
    "class TestCases(unittest.TestCase):\n",
    "    \n",
    "    def setUp(self):\n",
    "        self.n = 7\n",
    "    \n",
    "    def test_negative_numbers(self):\n",
    "        is_negative = True\n",
    "        for i in range(0,self.n):\n",
    "            if self.n >= 0:\n",
    "                is_negative = False\n",
    "                break\n",
    "                self.assertFalse(is_negative)\n",
    "\n",
    "    \n",
    "    \n",
    "    unittest.main(argv=[''], verbosity=2, exit=False)"
   ]
  },
  {
   "cell_type": "code",
   "execution_count": 6,
   "id": "b05c1af3",
   "metadata": {},
   "outputs": [
    {
     "name": "stderr",
     "output_type": "stream",
     "text": [
      "test_negative_numbers (__main__.TestCases.test_negative_numbers) ... ok\n",
      "\n",
      "----------------------------------------------------------------------\n",
      "Ran 1 test in 0.002s\n",
      "\n",
      "OK\n"
     ]
    }
   ],
   "source": [
    "class TestCases_1(unittest.TestCase):\n",
    "    \n",
    "    def setUp(self):\n",
    "        self.n = 0\n",
    "    \n",
    "    def test_zero(self):\n",
    "        result = self.n\n",
    "        self.assertFalse(result,0)\n",
    "    \n",
    "    \n",
    "    \n",
    "    unittest.main(argv=[''], verbosity=2, exit=False)"
   ]
  },
  {
   "cell_type": "code",
   "execution_count": 7,
   "id": "ad3256c3",
   "metadata": {},
   "outputs": [
    {
     "name": "stderr",
     "output_type": "stream",
     "text": [
      "test_negative_numbers (__main__.TestCases.test_negative_numbers) ... ok\n",
      "test_zero (__main__.TestCases_1.test_zero) ... ok\n",
      "\n",
      "----------------------------------------------------------------------\n",
      "Ran 2 tests in 0.004s\n",
      "\n",
      "OK\n"
     ]
    }
   ],
   "source": [
    "class prime_numers(unittest.TestCase):\n",
    "    \n",
    "    def setUp(self):\n",
    "        self.n = 2\n",
    "        \n",
    "    def test_prime_number(self):\n",
    "        is_prime = True\n",
    "        for i in range(2,self.n):\n",
    "            if self.n % i == 0:\n",
    "                is_prime = False\n",
    "                break\n",
    "                self.assertFalse(is_prime)\n",
    "        \n",
    "    unittest.main(argv=[''], verbosity=2, exit=False)"
   ]
  },
  {
   "cell_type": "code",
   "execution_count": 29,
   "id": "cb6dcf17",
   "metadata": {},
   "outputs": [
    {
     "name": "stderr",
     "output_type": "stream",
     "text": [
      "test_negative_numbers (__main__.TestCases.test_negative_numbers) ... ok\n",
      "test_zero (__main__.TestCases_1.test_zero) ... ok\n",
      "test_composite_number (__main__.composite_numbers.test_composite_number) ... ok\n",
      "test_prime_number (__main__.prime_numers.test_prime_number) ... ok\n",
      "\n",
      "----------------------------------------------------------------------\n",
      "Ran 4 tests in 0.005s\n",
      "\n",
      "OK\n"
     ]
    }
   ],
   "source": [
    "class composite_numbers(unittest.TestCase):\n",
    "    \n",
    "    def setUp(self):\n",
    "        self.n = 4\n",
    "    \n",
    "    def test_composite_number(self):\n",
    "        is_composite = False\n",
    "        \n",
    "        for i in range(2,self.n):\n",
    "            if self.n % i == 0:\n",
    "                is_composite = True\n",
    "                break\n",
    "        self.assertTrue(is_composite)\n",
    "        \n",
    "    unittest.main(argv=[''], verbosity=2, exit=False)"
   ]
  },
  {
   "cell_type": "code",
   "execution_count": null,
   "id": "507dbc09",
   "metadata": {},
   "outputs": [],
   "source": []
  },
  {
   "cell_type": "code",
   "execution_count": null,
   "id": "9ce80d35",
   "metadata": {},
   "outputs": [],
   "source": []
  }
 ],
 "metadata": {
  "kernelspec": {
   "display_name": "Python 3 (ipykernel)",
   "language": "python",
   "name": "python3"
  },
  "language_info": {
   "codemirror_mode": {
    "name": "ipython",
    "version": 3
   },
   "file_extension": ".py",
   "mimetype": "text/x-python",
   "name": "python",
   "nbconvert_exporter": "python",
   "pygments_lexer": "ipython3",
   "version": "3.11.0"
  }
 },
 "nbformat": 4,
 "nbformat_minor": 5
}
