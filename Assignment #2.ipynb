{
 "cells": [
  {
   "cell_type": "markdown",
   "id": "53cc221d",
   "metadata": {},
   "source": [
    "Python Basics: Flow Control, Loops, Functions\n",
    "\n",
    "- Get the radius value as input and calculate the area of the circle. If the input is numeric, display the result otherwise display any other message.\n",
    "- If the user enters numeric value then asks user to for either perimeter or area calculation and display accordingly"
   ]
  },
  {
   "cell_type": "code",
   "execution_count": 9,
   "id": "fe2b2e1f",
   "metadata": {},
   "outputs": [
    {
     "name": "stdout",
     "output_type": "stream",
     "text": [
      "Please enter a value to estimate the area: 0.1\n",
      "The area of the circle is: 0.62832\n"
     ]
    }
   ],
   "source": [
    "number= input(\"Please enter a value to estimate the area: \")\n",
    "number = float(number)\n",
    "\n",
    "if number == 0:\n",
    "    print(\"Please provide a higher number\")\n",
    "else:\n",
    "    print(f\"The area of the circle is: {number*(2*3.1416)}\")"
   ]
  },
  {
   "cell_type": "markdown",
   "id": "c1f7bc5d",
   "metadata": {},
   "source": [
    "- Check if there is a student named 'Maria' in students_profile dictionary. If exists remove 'ML' from her course"
   ]
  },
  {
   "cell_type": "code",
   "execution_count": 8,
   "id": "4d484ab5",
   "metadata": {},
   "outputs": [],
   "source": [
    "Names = {'Duy':['Python','Database','ML'],'Laxmi':['Python','Database','ML'],'Antonio':['Python','Database','ML'],'Maria':['Python','Database','ML']}"
   ]
  },
  {
   "cell_type": "code",
   "execution_count": 9,
   "id": "45c36cdf",
   "metadata": {},
   "outputs": [
    {
     "name": "stdout",
     "output_type": "stream",
     "text": [
      "{'Duy': ['Python', 'Database', 'ML'], 'Laxmi': ['Python', 'Database', 'ML'], 'Antonio': ['Python', 'Database', 'ML'], 'Maria': ['Python', 'Database']}\n"
     ]
    }
   ],
   "source": [
    "if 'Maria' in Names:\n",
    "    Names['Maria'].remove('ML')    \n",
    "print(Names)"
   ]
  },
  {
   "cell_type": "code",
   "execution_count": 10,
   "id": "9e9b69fc",
   "metadata": {},
   "outputs": [
    {
     "name": "stdout",
     "output_type": "stream",
     "text": [
      "{'Duy': ['Python', 'Database'], 'Laxmi': ['Python', 'Database'], 'Antonio': ['Python', 'Database'], 'Maria': ['Python', 'Database']}\n"
     ]
    }
   ],
   "source": [
    "for key in Names:\n",
    "    if 'ML' in Names[key]:\n",
    "        Names[key].remove('ML')\n",
    "print(Names)"
   ]
  },
  {
   "cell_type": "markdown",
   "id": "761f0245",
   "metadata": {},
   "source": [
    "- Take the input from the user as a substring. If that substring is present in string then display substring is present otherwise substring is not present"
   ]
  },
  {
   "cell_type": "code",
   "execution_count": 14,
   "id": "21510fe6",
   "metadata": {},
   "outputs": [
    {
     "name": "stdout",
     "output_type": "stream",
     "text": [
      "write a name please: anastacia\n",
      "write a short name please: ana\n",
      "these letters are within another name\n"
     ]
    }
   ],
   "source": [
    "long_name = input(\"write a name please: \")\n",
    "short_name = input(\"write a short name please: \")\n",
    "\n",
    "if short_name in long_name:\n",
    "    print(\"these letters are within another name\")\n",
    "else:\n",
    "    print(\"these letters are not within another name\")\n",
    "    \n"
   ]
  },
  {
   "cell_type": "markdown",
   "id": "d9a0c833",
   "metadata": {},
   "source": [
    "- Distance Metrics are important to calculate the similarity between the vectors. They are used in both supervised and unsupervised machine learning problems. Given the points (1,2,3) and (4,5,6), write a python conditional statement to print the distance for the order 1,2,3,4. If the order is 1 then it is L1 norm(Manhattan distance), order 2 is L2 norm(Euclidean distance) and the generalized distance is given by Minkowski equation."
   ]
  },
  {
   "cell_type": "code",
   "execution_count": 16,
   "id": "80a2f39d",
   "metadata": {},
   "outputs": [],
   "source": [
    "#I had no idea how to solve this one"
   ]
  },
  {
   "cell_type": "markdown",
   "id": "3294e52c",
   "metadata": {},
   "source": [
    " - Write a multiplication table for any given number using both for and while loop"
   ]
  },
  {
   "cell_type": "code",
   "execution_count": 6,
   "id": "e5716fde",
   "metadata": {},
   "outputs": [
    {
     "name": "stdout",
     "output_type": "stream",
     "text": [
      "7 x 1 = 7\n",
      "7 x 2 = 14\n",
      "7 x 3 = 21\n",
      "7 x 4 = 28\n"
     ]
    }
   ],
   "source": [
    "number = 7\n",
    "\n",
    "for num in range(1,5):\n",
    "    print(number, 'x', num, '=', number*num)"
   ]
  },
  {
   "cell_type": "code",
   "execution_count": 14,
   "id": "d9a88afc",
   "metadata": {},
   "outputs": [
    {
     "name": "stdout",
     "output_type": "stream",
     "text": [
      "1 x 10 = 10\n",
      "2 x 10 = 20\n",
      "3 x 10 = 30\n",
      "4 x 10 = 40\n",
      "5 x 10 = 50\n",
      "6 x 10 = 60\n",
      "7 x 10 = 70\n",
      "8 x 10 = 80\n",
      "9 x 10 = 90\n",
      "10 x 10 = 100\n"
     ]
    }
   ],
   "source": [
    "number = 10\n",
    "i=1\n",
    "\n",
    "while i <= 10:\n",
    "    print(i, 'x', number, '=', i*number)\n",
    "    i +=1"
   ]
  },
  {
   "cell_type": "markdown",
   "id": "41cd8d35",
   "metadata": {},
   "source": [
    " - DNA is coded using 4 nitrogen bases with the symbols A,T,G,C. Given the template string dna_template='AATCCGAAAATTCGGGAATTTTCGCGT' , generate the complementary dna template with the mapping mapper={\"T\":\"A\",\"A\":\"T\",\"G\":\"C\",\"C\":\"G\"}"
   ]
  },
  {
   "cell_type": "code",
   "execution_count": 20,
   "id": "14fe6e86",
   "metadata": {},
   "outputs": [
    {
     "name": "stdout",
     "output_type": "stream",
     "text": [
      "TTAGGCTTTTAAGCCCTTAAAAGCGCA\n"
     ]
    }
   ],
   "source": [
    "\n",
    "dna_template='AATCCGAAAATTCGGGAATTTTCGCGT' # I had to get extra help for this exercise\n",
    "mapper={\"T\":\"A\",\"A\":\"T\",\"G\":\"C\",\"C\":\"G\"}\n",
    "\n",
    "dna_complete=''\n",
    "\n",
    "for i in dna_template:\n",
    "    dna_complement = mapper[i]\n",
    "    dna_complete += dna_complement\n",
    "print(dna_complete)\n",
    "    \n",
    "    "
   ]
  },
  {
   "cell_type": "code",
   "execution_count": 23,
   "id": "4d9b12fc",
   "metadata": {},
   "outputs": [
    {
     "name": "stdout",
     "output_type": "stream",
     "text": [
      "112532312133\n"
     ]
    }
   ],
   "source": [
    "letter_combination='AABDCBCABACC'     #did an extra exercise to unnderstand better how its done\n",
    "number_combination={'A':'1','C':'3','B':'2','D':'5'}\n",
    "\n",
    "obtain_num_combination=''\n",
    "\n",
    "for i in letter_combination:\n",
    "    decode = number_combination[i]\n",
    "    obtain_num_combination += decode\n",
    "print(obtain_num_combination)\n"
   ]
  },
  {
   "cell_type": "markdown",
   "id": "bd0f4092",
   "metadata": {},
   "source": [
    "I couldnt generate the Fibonacci sequence"
   ]
  },
  {
   "cell_type": "code",
   "execution_count": 60,
   "id": "d86a66ea",
   "metadata": {},
   "outputs": [
    {
     "name": "stdout",
     "output_type": "stream",
     "text": [
      "0\n",
      "1\n",
      "1\n",
      "2\n",
      "3\n",
      "5\n",
      "8\n",
      "13\n",
      "21\n",
      "34\n",
      "55\n",
      "89\n",
      "144\n"
     ]
    }
   ],
   "source": [
    "def fibonacci(i): # I did this with a lot of help\n",
    "    \n",
    "    if i == 0:\n",
    "        return 0\n",
    "    elif i == 1:\n",
    "        return 1\n",
    "    else:\n",
    "        return fibonacci(i-1) + fibonacci(i-2)\n",
    "    \n",
    "for x in range(13):\n",
    "    print(fibonacci(x))\n",
    "#print(fibonacci(8))"
   ]
  },
  {
   "cell_type": "code",
   "execution_count": 8,
   "id": "128a0aec",
   "metadata": {},
   "outputs": [
    {
     "ename": "SyntaxError",
     "evalue": "invalid syntax (<ipython-input-8-9eea56a8375d>, line 1)",
     "output_type": "error",
     "traceback": [
      "\u001b[0;36m  File \u001b[0;32m\"<ipython-input-8-9eea56a8375d>\"\u001b[0;36m, line \u001b[0;32m1\u001b[0m\n\u001b[0;31m    def prime_number(i)\u001b[0m\n\u001b[0m                       ^\u001b[0m\n\u001b[0;31mSyntaxError\u001b[0m\u001b[0;31m:\u001b[0m invalid syntax\n"
     ]
    }
   ],
   "source": [
    "def prime_number(i)\n",
    "    \n",
    "    if i / i == 1:\n",
    "        return i\n",
    "        i += 1\n",
    "for x in range(10):\n",
    "    print(prime_number(x))"
   ]
  },
  {
   "cell_type": "code",
   "execution_count": null,
   "id": "882965c7",
   "metadata": {},
   "outputs": [],
   "source": []
  }
 ],
 "metadata": {
  "kernelspec": {
   "display_name": "Python 3",
   "language": "python",
   "name": "python3"
  },
  "language_info": {
   "codemirror_mode": {
    "name": "ipython",
    "version": 3
   },
   "file_extension": ".py",
   "mimetype": "text/x-python",
   "name": "python",
   "nbconvert_exporter": "python",
   "pygments_lexer": "ipython3",
   "version": "3.7.7"
  }
 },
 "nbformat": 4,
 "nbformat_minor": 5
}
