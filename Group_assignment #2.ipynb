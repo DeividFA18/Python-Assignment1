{
 "cells": [
  {
   "cell_type": "code",
   "execution_count": 61,
   "id": "d374add9",
   "metadata": {},
   "outputs": [],
   "source": [
    "import pandas as pd\n",
    "import numpy as np\n",
    "import seaborn as sns\n",
    "import matplotlib.pyplot as plt\n",
    "import math\n",
    "from scipy.stats import t\n",
    "from random import sample"
   ]
  },
  {
   "cell_type": "markdown",
   "id": "277012cc",
   "metadata": {},
   "source": [
    "- Every group have  to download the Excel files:\n",
    "Each file has three recorded values of water flow recorded using three sensors S1,S2, and S3.\n",
    "\n",
    "\n",
    "\n",
    "\n",
    "\n",
    "\n",
    "\n"
   ]
  },
  {
   "cell_type": "code",
   "execution_count": 47,
   "id": "af1306dc",
   "metadata": {},
   "outputs": [
    {
     "name": "stdout",
     "output_type": "stream",
     "text": [
      "      S1   S2   S3\n",
      "0    502  378  314\n",
      "1    491  369  390\n",
      "2    472  363  344\n",
      "3    470  386  355\n",
      "4    477  389  383\n",
      "..   ...  ...  ...\n",
      "127  500  385  314\n",
      "128  458  378  371\n",
      "129  488  386  389\n",
      "130  509  378  306\n",
      "131  516  347  327\n",
      "\n",
      "[132 rows x 3 columns]\n"
     ]
    }
   ],
   "source": [
    "df = pd.read_excel('Group5.xlsx')\n",
    "print(df)"
   ]
  },
  {
   "cell_type": "markdown",
   "id": "047b1d8d",
   "metadata": {},
   "source": [
    "- Compute the covariance between three variables"
   ]
  },
  {
   "cell_type": "code",
   "execution_count": 63,
   "id": "982608e9",
   "metadata": {},
   "outputs": [
    {
     "data": {
      "text/html": [
       "<div>\n",
       "<style scoped>\n",
       "    .dataframe tbody tr th:only-of-type {\n",
       "        vertical-align: middle;\n",
       "    }\n",
       "\n",
       "    .dataframe tbody tr th {\n",
       "        vertical-align: top;\n",
       "    }\n",
       "\n",
       "    .dataframe thead th {\n",
       "        text-align: right;\n",
       "    }\n",
       "</style>\n",
       "<table border=\"1\" class=\"dataframe\">\n",
       "  <thead>\n",
       "    <tr style=\"text-align: right;\">\n",
       "      <th></th>\n",
       "      <th>S1</th>\n",
       "      <th>S2</th>\n",
       "      <th>S3</th>\n",
       "    </tr>\n",
       "  </thead>\n",
       "  <tbody>\n",
       "    <tr>\n",
       "      <th>S1</th>\n",
       "      <td>355.498034</td>\n",
       "      <td>54.396253</td>\n",
       "      <td>9.307425</td>\n",
       "    </tr>\n",
       "    <tr>\n",
       "      <th>S2</th>\n",
       "      <td>54.396253</td>\n",
       "      <td>274.075642</td>\n",
       "      <td>160.689105</td>\n",
       "    </tr>\n",
       "    <tr>\n",
       "      <th>S3</th>\n",
       "      <td>9.307425</td>\n",
       "      <td>160.689105</td>\n",
       "      <td>905.634976</td>\n",
       "    </tr>\n",
       "  </tbody>\n",
       "</table>\n",
       "</div>"
      ],
      "text/plain": [
       "            S1          S2          S3\n",
       "S1  355.498034   54.396253    9.307425\n",
       "S2   54.396253  274.075642  160.689105\n",
       "S3    9.307425  160.689105  905.634976"
      ]
     },
     "execution_count": 63,
     "metadata": {},
     "output_type": "execute_result"
    }
   ],
   "source": [
    "S1_S2_S3= np.array([df.S1,df.S2,df.S3])\n",
    "covariance = np.cov(S1_S2_S3)\n",
    "df.cov()\n"
   ]
  },
  {
   "cell_type": "markdown",
   "id": "22cefc84",
   "metadata": {},
   "source": [
    "- Compute the correlation coefficients between three variables"
   ]
  },
  {
   "cell_type": "code",
   "execution_count": 62,
   "id": "41b61e14",
   "metadata": {},
   "outputs": [
    {
     "data": {
      "text/html": [
       "<div>\n",
       "<style scoped>\n",
       "    .dataframe tbody tr th:only-of-type {\n",
       "        vertical-align: middle;\n",
       "    }\n",
       "\n",
       "    .dataframe tbody tr th {\n",
       "        vertical-align: top;\n",
       "    }\n",
       "\n",
       "    .dataframe thead th {\n",
       "        text-align: right;\n",
       "    }\n",
       "</style>\n",
       "<table border=\"1\" class=\"dataframe\">\n",
       "  <thead>\n",
       "    <tr style=\"text-align: right;\">\n",
       "      <th></th>\n",
       "      <th>S1</th>\n",
       "      <th>S2</th>\n",
       "      <th>S3</th>\n",
       "    </tr>\n",
       "  </thead>\n",
       "  <tbody>\n",
       "    <tr>\n",
       "      <th>S1</th>\n",
       "      <td>1.000000</td>\n",
       "      <td>0.174267</td>\n",
       "      <td>0.016403</td>\n",
       "    </tr>\n",
       "    <tr>\n",
       "      <th>S2</th>\n",
       "      <td>0.174267</td>\n",
       "      <td>1.000000</td>\n",
       "      <td>0.322533</td>\n",
       "    </tr>\n",
       "    <tr>\n",
       "      <th>S3</th>\n",
       "      <td>0.016403</td>\n",
       "      <td>0.322533</td>\n",
       "      <td>1.000000</td>\n",
       "    </tr>\n",
       "  </tbody>\n",
       "</table>\n",
       "</div>"
      ],
      "text/plain": [
       "          S1        S2        S3\n",
       "S1  1.000000  0.174267  0.016403\n",
       "S2  0.174267  1.000000  0.322533\n",
       "S3  0.016403  0.322533  1.000000"
      ]
     },
     "execution_count": 62,
     "metadata": {},
     "output_type": "execute_result"
    }
   ],
   "source": [
    "corr_matrix = df.corr()\n",
    "#print(corr_matrix)\n",
    "df.corr()"
   ]
  },
  {
   "cell_type": "markdown",
   "id": "2a596c53",
   "metadata": {},
   "source": [
    "- Plot and report the relationships between the variables"
   ]
  },
  {
   "cell_type": "code",
   "execution_count": 50,
   "id": "56cda562",
   "metadata": {},
   "outputs": [
    {
     "data": {
      "text/plain": [
       "<Axes: >"
      ]
     },
     "execution_count": 50,
     "metadata": {},
     "output_type": "execute_result"
    },
    {
     "data": {
      "image/png": "[encoded data removed]",
      "text/plain": [
       "<Figure size 640x480 with 2 Axes>"
      ]
     },
     "metadata": {},
     "output_type": "display_data"
    }
   ],
   "source": [
    "sns.heatmap(df.corr(),cmap='Blues', annot=True)"
   ]
  },
  {
   "cell_type": "code",
   "execution_count": 51,
   "id": "0263ac00",
   "metadata": {},
   "outputs": [
    {
     "name": "stderr",
     "output_type": "stream",
     "text": [
      "/Users/deivid/anaconda3/envs/jupyternotebook/lib/python3.11/site-packages/pandas/plotting/_matplotlib/misc.py:97: UserWarning: You passed a edgecolor/edgecolors ('none') for an unfilled marker ('+').  Matplotlib is ignoring the edgecolor in favor of the facecolor.  This behavior may change in the future.\n",
      "  ax.scatter(\n"
     ]
    },
    {
     "data": {
      "image/png": "[encoded data removed]",
      "text/plain": [
       "<Figure size 300x300 with 9 Axes>"
      ]
     },
     "metadata": {},
     "output_type": "display_data"
    }
   ],
   "source": [
    "pd.plotting.scatter_matrix(df,hist_kwds={'bins':20}, marker='+',figsize=(3,3))\n",
    "plt.show()"
   ]
  },
  {
   "cell_type": "markdown",
   "id": "fd8c13a1",
   "metadata": {},
   "source": [
    "- Generate a random sample of 50 observations for each sensor"
   ]
  },
  {
   "cell_type": "code",
   "execution_count": 52,
   "id": "5ddaa419",
   "metadata": {},
   "outputs": [
    {
     "name": "stdout",
     "output_type": "stream",
     "text": [
      "[469, 492, 500, 462, 500, 517, 465, 479, 463, 456, 463, 491, 462, 472, 507, 521, 488, 475, 481, 492, 492, 487, 484, 478, 509, 514, 475, 512, 485, 459, 477, 470, 480, 459, 460, 481, 489, 465, 513, 495, 477, 516, 485, 502, 491, 481, 501, 510, 515, 492]\n",
      "[377, 388, 382, 378, 339, 370, 384, 378, 378, 347, 378, 336, 389, 397, 379, 378, 388, 363, 321, 356, 376, 394, 398, 379, 390, 372, 345, 418, 373, 390, 368, 379, 332, 393, 386, 384, 386, 373, 372, 394, 402, 397, 380, 367, 372, 377, 356, 370, 372, 390]\n",
      "[372, 305, 314, 385, 331, 324, 294, 349, 366, 371, 383, 332, 262, 298, 379, 314, 382, 312, 369, 395, 392, 379, 345, 374, 339, 372, 350, 327, 334, 365, 292, 390, 357, 392, 389, 285, 342, 306, 373, 371, 325, 349, 321, 343, 288, 378, 344, 283, 364, 318]\n"
     ]
    }
   ],
   "source": [
    "random = df.sample(n=50)\n",
    "\n",
    "S1_sample = sample(list(df.S1),50)\n",
    "S2_sample = sample(list(df.S2),50)\n",
    "S3_sample = sample(list(df.S3),50)\n",
    "print(S1_sample)\n",
    "print(S2_sample)\n",
    "print(S3_sample)"
   ]
  },
  {
   "cell_type": "markdown",
   "id": "71a38d06",
   "metadata": {},
   "source": [
    "- Compute the upper and the lower bounds with confidence intervals 90%, 95%, 99%."
   ]
  },
  {
   "cell_type": "code",
   "execution_count": 53,
   "id": "34a831d5",
   "metadata": {},
   "outputs": [
    {
     "name": "stdout",
     "output_type": "stream",
     "text": [
      "S1 values of mean and Standar deviation: 483.42424242424244 18.85465549334813\n"
     ]
    }
   ],
   "source": [
    "stats = pd.DataFrame()\n",
    "stats['Mean']= df.mean()\n",
    "stats['Stdev']= df.std()\n",
    "print('S1 values of mean and Standar deviation:',stats['Mean']['S1'], stats['Stdev']['S1'])\n",
    "#print(stats)"
   ]
  },
  {
   "cell_type": "code",
   "execution_count": 65,
   "id": "b74e341b",
   "metadata": {},
   "outputs": [
    {
     "data": {
      "text/html": [
       "<div>\n",
       "<style scoped>\n",
       "    .dataframe tbody tr th:only-of-type {\n",
       "        vertical-align: middle;\n",
       "    }\n",
       "\n",
       "    .dataframe tbody tr th {\n",
       "        vertical-align: top;\n",
       "    }\n",
       "\n",
       "    .dataframe thead th {\n",
       "        text-align: right;\n",
       "    }\n",
       "</style>\n",
       "<table border=\"1\" class=\"dataframe\">\n",
       "  <thead>\n",
       "    <tr style=\"text-align: right;\">\n",
       "      <th></th>\n",
       "      <th>Mean</th>\n",
       "      <th>Stdev</th>\n",
       "    </tr>\n",
       "  </thead>\n",
       "  <tbody>\n",
       "    <tr>\n",
       "      <th>S1</th>\n",
       "      <td>483.424242</td>\n",
       "      <td>18.854655</td>\n",
       "    </tr>\n",
       "    <tr>\n",
       "      <th>S2</th>\n",
       "      <td>375.590909</td>\n",
       "      <td>16.555230</td>\n",
       "    </tr>\n",
       "    <tr>\n",
       "      <th>S3</th>\n",
       "      <td>351.727273</td>\n",
       "      <td>30.093770</td>\n",
       "    </tr>\n",
       "  </tbody>\n",
       "</table>\n",
       "</div>"
      ],
      "text/plain": [
       "          Mean      Stdev\n",
       "S1  483.424242  18.854655\n",
       "S2  375.590909  16.555230\n",
       "S3  351.727273  30.093770"
      ]
     },
     "execution_count": 65,
     "metadata": {},
     "output_type": "execute_result"
    }
   ],
   "source": [
    "stats"
   ]
  },
  {
   "cell_type": "code",
   "execution_count": 54,
   "id": "9cd65b5e",
   "metadata": {},
   "outputs": [
    {
     "name": "stdout",
     "output_type": "stream",
     "text": [
      "S1    1.641087\n",
      "S2    1.440948\n",
      "S3    2.619326\n",
      "dtype: float64\n"
     ]
    }
   ],
   "source": [
    "n = len(df)\n",
    "std_error = df.std(axis=0)/np.sqrt(n)\n",
    "print(std_error)"
   ]
  },
  {
   "cell_type": "code",
   "execution_count": 55,
   "id": "e2a69591",
   "metadata": {},
   "outputs": [
    {
     "name": "stdout",
     "output_type": "stream",
     "text": [
      "S1    2.113798\n",
      "S2    1.856009\n",
      "S3    3.373817\n",
      "dtype: float64\n",
      "S1    2.718573\n",
      "S2    2.387029\n",
      "S3    4.339094\n",
      "dtype: float64\n",
      "S1    3.865007\n",
      "S2    3.393649\n",
      "S3    6.168908\n",
      "dtype: float64\n"
     ]
    }
   ],
   "source": [
    "t_value_90 = t.ppf(0.90, n-1)\n",
    "t_value_95 = t.ppf(0.95, n-1)\n",
    "t_value_99 = t.ppf(0.99, n-1)\n",
    "margin_of_error_90 = t_value_90*std_error\n",
    "margin_of_error_95 = t_value_95*std_error\n",
    "margin_of_error_99 = t_value_99*std_error\n",
    "print(margin_of_error_90)\n",
    "print(margin_of_error_95)\n",
    "print(margin_of_error_99)"
   ]
  },
  {
   "cell_type": "code",
   "execution_count": 56,
   "id": "2302b3b2",
   "metadata": {},
   "outputs": [],
   "source": [
    "upper_bound_90 = stats['Mean'] + margin_of_error_90\n",
    "lower_bound_90 = stats['Mean'] - margin_of_error_90\n",
    "\n",
    "upper_bound_95 = stats['Mean'] + margin_of_error_95\n",
    "lower_bound_95 = stats['Mean'] - margin_of_error_95\n",
    "\n",
    "upper_bound_99 = stats['Mean'] + margin_of_error_99\n",
    "lower_bound_99 = stats['Mean'] - margin_of_error_99\n",
    "\n",
    "#print(f\"{upper_bound_90} {lower_bound_90}\")\n",
    "#print(f\"{upper_bound_95} {lower_bound_95}\")\n",
    "#print(f\"{upper_bound_99} {lower_bound_99}\")\n",
    "#print(upper_bound_90, lower_bound_90)"
   ]
  },
  {
   "cell_type": "markdown",
   "id": "ff7ebb5c",
   "metadata": {},
   "source": [
    "- Compare the population means of each sample with the estimated one given the samples"
   ]
  },
  {
   "cell_type": "code",
   "execution_count": null,
   "id": "f796c5d5",
   "metadata": {},
   "outputs": [],
   "source": []
  }
 ],
 "metadata": {
  "kernelspec": {
   "display_name": "Python 3 (ipykernel)",
   "language": "python",
   "name": "python3"
  },
  "language_info": {
   "codemirror_mode": {
    "name": "ipython",
    "version": 3
   },
   "file_extension": ".py",
   "mimetype": "text/x-python",
   "name": "python",
   "nbconvert_exporter": "python",
   "pygments_lexer": "ipython3",
   "version": "3.11.0"
  }
 },
 "nbformat": 4,
 "nbformat_minor": 5
}
